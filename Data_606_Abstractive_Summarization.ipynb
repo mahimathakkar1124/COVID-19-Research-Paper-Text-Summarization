{
  "nbformat": 4,
  "nbformat_minor": 0,
  "metadata": {
    "colab": {
      "name": "Data 606 Abstractive Summarization.ipynb",
      "provenance": [],
      "authorship_tag": "ABX9TyNAbx8dZYxeN7NtiFNTC81I",
      "include_colab_link": true
    },
    "kernelspec": {
      "name": "python3",
      "display_name": "Python 3"
    },
    "language_info": {
      "name": "python"
    }
  },
  "cells": [
    {
      "cell_type": "markdown",
      "metadata": {
        "id": "view-in-github",
        "colab_type": "text"
      },
      "source": [
        "<a href=\"https://colab.research.google.com/github/mahimathakkar1124/COVID-19-Research-Paper-Text-Summarization/blob/main/Data_606_Abstractive_Summarization.ipynb\" target=\"_parent\"><img src=\"https://colab.research.google.com/assets/colab-badge.svg\" alt=\"Open In Colab\"/></a>"
      ]
    },
    {
      "cell_type": "code",
      "metadata": {
        "colab": {
          "base_uri": "https://localhost:8080/"
        },
        "id": "vSkaKQg2gTqs",
        "outputId": "8a2578a1-5d86-4ce3-ec3c-efd76ac5f363"
      },
      "source": [
        "!pip install tika\n",
        "!pip install PyPDF2\n",
        "!pip install pytextrank\n",
        "!pip install spacy && python -m spacy download en_core_web_sm\n",
        "!pip install PyMuPDF\n",
        "!pip install fitz\n",
        "!pip install transformers\n",
        "! pip install sentencepiece"
      ],
      "execution_count": null,
      "outputs": [
        {
          "output_type": "stream",
          "text": [
            "Collecting tika\n",
            "  Downloading https://files.pythonhosted.org/packages/96/07/244fbb9c74c0de8a3745cc9f3f496077a29f6418c7cbd90d68fd799574cb/tika-1.24.tar.gz\n",
            "Requirement already satisfied: setuptools in /usr/local/lib/python3.7/dist-packages (from tika) (54.2.0)\n",
            "Requirement already satisfied: requests in /usr/local/lib/python3.7/dist-packages (from tika) (2.23.0)\n",
            "Requirement already satisfied: idna<3,>=2.5 in /usr/local/lib/python3.7/dist-packages (from requests->tika) (2.10)\n",
            "Requirement already satisfied: urllib3!=1.25.0,!=1.25.1,<1.26,>=1.21.1 in /usr/local/lib/python3.7/dist-packages (from requests->tika) (1.24.3)\n",
            "Requirement already satisfied: certifi>=2017.4.17 in /usr/local/lib/python3.7/dist-packages (from requests->tika) (2020.12.5)\n",
            "Requirement already satisfied: chardet<4,>=3.0.2 in /usr/local/lib/python3.7/dist-packages (from requests->tika) (3.0.4)\n",
            "Building wheels for collected packages: tika\n",
            "  Building wheel for tika (setup.py) ... \u001b[?25l\u001b[?25hdone\n",
            "  Created wheel for tika: filename=tika-1.24-cp37-none-any.whl size=32885 sha256=71afedcbc843785f7626d91b3b6c3dfc62ea5e864a5135be975b83ee26799cfc\n",
            "  Stored in directory: /root/.cache/pip/wheels/73/9c/f5/0b1b738442fc2a2862bef95b908b374f8e80215550fb2a8975\n",
            "Successfully built tika\n",
            "Installing collected packages: tika\n",
            "Successfully installed tika-1.24\n",
            "Collecting PyPDF2\n",
            "\u001b[?25l  Downloading https://files.pythonhosted.org/packages/b4/01/68fcc0d43daf4c6bdbc6b33cc3f77bda531c86b174cac56ef0ffdb96faab/PyPDF2-1.26.0.tar.gz (77kB)\n",
            "\u001b[K     |████████████████████████████████| 81kB 3.9MB/s \n",
            "\u001b[?25hBuilding wheels for collected packages: PyPDF2\n",
            "  Building wheel for PyPDF2 (setup.py) ... \u001b[?25l\u001b[?25hdone\n",
            "  Created wheel for PyPDF2: filename=PyPDF2-1.26.0-cp37-none-any.whl size=61085 sha256=1d3f86fb753605772a1e608651a151cc841933f75d4fb595d35b727416a8072e\n",
            "  Stored in directory: /root/.cache/pip/wheels/53/84/19/35bc977c8bf5f0c23a8a011aa958acd4da4bbd7a229315c1b7\n",
            "Successfully built PyPDF2\n",
            "Installing collected packages: PyPDF2\n",
            "Successfully installed PyPDF2-1.26.0\n",
            "Collecting pytextrank\n",
            "  Downloading https://files.pythonhosted.org/packages/dc/bc/df8b57f1c28e2b66859b7428520115723a7c49ce6e4d1a224307dbe079dd/pytextrank-3.1.1-py3-none-any.whl\n",
            "Requirement already satisfied: networkx>=2.0 in /usr/local/lib/python3.7/dist-packages (from pytextrank) (2.5)\n",
            "Collecting spacy>=3.0\n",
            "\u001b[?25l  Downloading https://files.pythonhosted.org/packages/3a/70/a0b8bd0cb54d8739ba4d6fb3458785c3b9b812b7fbe93b0f10beb1a53ada/spacy-3.0.5-cp37-cp37m-manylinux2014_x86_64.whl (12.8MB)\n",
            "\u001b[K     |████████████████████████████████| 12.8MB 289kB/s \n",
            "\u001b[?25hCollecting icecream>=2.1\n",
            "  Downloading https://files.pythonhosted.org/packages/31/cc/5454531fe9ae123720b496fdea806e282843d6e75e5718a5e8b1d8e5c47f/icecream-2.1.0-py2.py3-none-any.whl\n",
            "Collecting graphviz>=0.13\n",
            "  Downloading https://files.pythonhosted.org/packages/86/86/89ba50ba65928001d3161f23bfa03945ed18ea13a1d1d44a772ff1fa4e7a/graphviz-0.16-py2.py3-none-any.whl\n",
            "Requirement already satisfied: decorator>=4.3.0 in /usr/local/lib/python3.7/dist-packages (from networkx>=2.0->pytextrank) (4.4.2)\n",
            "Requirement already satisfied: setuptools in /usr/local/lib/python3.7/dist-packages (from spacy>=3.0->pytextrank) (54.2.0)\n",
            "Requirement already satisfied: importlib-metadata>=0.20; python_version < \"3.8\" in /usr/local/lib/python3.7/dist-packages (from spacy>=3.0->pytextrank) (3.8.1)\n",
            "Requirement already satisfied: typing-extensions<4.0.0.0,>=3.7.4; python_version < \"3.8\" in /usr/local/lib/python3.7/dist-packages (from spacy>=3.0->pytextrank) (3.7.4.3)\n",
            "Requirement already satisfied: numpy>=1.15.0 in /usr/local/lib/python3.7/dist-packages (from spacy>=3.0->pytextrank) (1.19.5)\n",
            "Requirement already satisfied: cymem<2.1.0,>=2.0.2 in /usr/local/lib/python3.7/dist-packages (from spacy>=3.0->pytextrank) (2.0.5)\n",
            "Requirement already satisfied: tqdm<5.0.0,>=4.38.0 in /usr/local/lib/python3.7/dist-packages (from spacy>=3.0->pytextrank) (4.41.1)\n",
            "Collecting pathy>=0.3.5\n",
            "  Downloading https://files.pythonhosted.org/packages/a2/53/97dc0197cca9357369b3b71bf300896cf2d3604fa60ffaaf5cbc277de7de/pathy-0.4.0-py3-none-any.whl\n",
            "Collecting srsly<3.0.0,>=2.4.0\n",
            "\u001b[?25l  Downloading https://files.pythonhosted.org/packages/c3/84/dfdfc9f6f04f6b88207d96d9520b911e5fec0c67ff47a0dea31ab5429a1e/srsly-2.4.1-cp37-cp37m-manylinux2014_x86_64.whl (456kB)\n",
            "\u001b[K     |████████████████████████████████| 460kB 43.7MB/s \n",
            "\u001b[?25hCollecting catalogue<2.1.0,>=2.0.1\n",
            "  Downloading https://files.pythonhosted.org/packages/de/68/027c9f70a58fa4d76521d94237e305247fca196d374635b339401ebed5d8/catalogue-2.0.2-py3-none-any.whl\n",
            "Collecting pydantic<1.8.0,>=1.7.1\n",
            "\u001b[?25l  Downloading https://files.pythonhosted.org/packages/b3/0a/52ae1c659fc08f13dd7c0ae07b88e4f807ad83fb9954a59b0b0a3d1a8ab6/pydantic-1.7.3-cp37-cp37m-manylinux2014_x86_64.whl (9.1MB)\n",
            "\u001b[K     |████████████████████████████████| 9.1MB 41.8MB/s \n",
            "\u001b[?25hRequirement already satisfied: wasabi<1.1.0,>=0.8.1 in /usr/local/lib/python3.7/dist-packages (from spacy>=3.0->pytextrank) (0.8.2)\n",
            "Collecting thinc<8.1.0,>=8.0.2\n",
            "\u001b[?25l  Downloading https://files.pythonhosted.org/packages/e3/08/20e707519bcded1a0caa6fd024b767ac79e4e5d0fb92266bb7dcf735e338/thinc-8.0.2-cp37-cp37m-manylinux2014_x86_64.whl (1.1MB)\n",
            "\u001b[K     |████████████████████████████████| 1.1MB 48.3MB/s \n",
            "\u001b[?25hCollecting spacy-legacy<3.1.0,>=3.0.0\n",
            "  Downloading https://files.pythonhosted.org/packages/78/d8/e25bc7f99877de34def57d36769f0cce4e895b374cdc766718efc724f9ac/spacy_legacy-3.0.2-py2.py3-none-any.whl\n",
            "Requirement already satisfied: murmurhash<1.1.0,>=0.28.0 in /usr/local/lib/python3.7/dist-packages (from spacy>=3.0->pytextrank) (1.0.5)\n",
            "Requirement already satisfied: blis<0.8.0,>=0.4.0 in /usr/local/lib/python3.7/dist-packages (from spacy>=3.0->pytextrank) (0.4.1)\n",
            "Collecting typer<0.4.0,>=0.3.0\n",
            "  Downloading https://files.pythonhosted.org/packages/90/34/d138832f6945432c638f32137e6c79a3b682f06a63c488dcfaca6b166c64/typer-0.3.2-py3-none-any.whl\n",
            "Requirement already satisfied: preshed<3.1.0,>=3.0.2 in /usr/local/lib/python3.7/dist-packages (from spacy>=3.0->pytextrank) (3.0.5)\n",
            "Requirement already satisfied: jinja2 in /usr/local/lib/python3.7/dist-packages (from spacy>=3.0->pytextrank) (2.11.3)\n",
            "Requirement already satisfied: packaging>=20.0 in /usr/local/lib/python3.7/dist-packages (from spacy>=3.0->pytextrank) (20.9)\n",
            "Requirement already satisfied: requests<3.0.0,>=2.13.0 in /usr/local/lib/python3.7/dist-packages (from spacy>=3.0->pytextrank) (2.23.0)\n",
            "Requirement already satisfied: pygments>=2.2.0 in /usr/local/lib/python3.7/dist-packages (from icecream>=2.1->pytextrank) (2.6.1)\n",
            "Collecting colorama>=0.3.9\n",
            "  Downloading https://files.pythonhosted.org/packages/44/98/5b86278fbbf250d239ae0ecb724f8572af1c91f4a11edf4d36a206189440/colorama-0.4.4-py2.py3-none-any.whl\n",
            "Collecting asttokens>=2.0.1\n",
            "  Downloading https://files.pythonhosted.org/packages/62/e9/247023d33dc110117b831cbfe47bb553e10d0edf92297ace745256402d42/asttokens-2.0.4-py2.py3-none-any.whl\n",
            "Collecting executing>=0.3.1\n",
            "  Downloading https://files.pythonhosted.org/packages/e9/3d/2c2cf37d6194fa93c35e7ba6ab5aaa841a9b1b788fc322b01e53e0602049/executing-0.5.4-py3-none-any.whl\n",
            "Requirement already satisfied: zipp>=0.5 in /usr/local/lib/python3.7/dist-packages (from importlib-metadata>=0.20; python_version < \"3.8\"->spacy>=3.0->pytextrank) (3.4.1)\n",
            "Collecting smart-open<4.0.0,>=2.2.0\n",
            "\u001b[?25l  Downloading https://files.pythonhosted.org/packages/11/9a/ba2d5f67f25e8d5bbf2fcec7a99b1e38428e83cb715f64dd179ca43a11bb/smart_open-3.0.0.tar.gz (113kB)\n",
            "\u001b[K     |████████████████████████████████| 122kB 50.7MB/s \n",
            "\u001b[?25hRequirement already satisfied: click<7.2.0,>=7.1.1 in /usr/local/lib/python3.7/dist-packages (from typer<0.4.0,>=0.3.0->spacy>=3.0->pytextrank) (7.1.2)\n",
            "Requirement already satisfied: MarkupSafe>=0.23 in /usr/local/lib/python3.7/dist-packages (from jinja2->spacy>=3.0->pytextrank) (1.1.1)\n",
            "Requirement already satisfied: pyparsing>=2.0.2 in /usr/local/lib/python3.7/dist-packages (from packaging>=20.0->spacy>=3.0->pytextrank) (2.4.7)\n",
            "Requirement already satisfied: idna<3,>=2.5 in /usr/local/lib/python3.7/dist-packages (from requests<3.0.0,>=2.13.0->spacy>=3.0->pytextrank) (2.10)\n",
            "Requirement already satisfied: certifi>=2017.4.17 in /usr/local/lib/python3.7/dist-packages (from requests<3.0.0,>=2.13.0->spacy>=3.0->pytextrank) (2020.12.5)\n",
            "Requirement already satisfied: urllib3!=1.25.0,!=1.25.1,<1.26,>=1.21.1 in /usr/local/lib/python3.7/dist-packages (from requests<3.0.0,>=2.13.0->spacy>=3.0->pytextrank) (1.24.3)\n",
            "Requirement already satisfied: chardet<4,>=3.0.2 in /usr/local/lib/python3.7/dist-packages (from requests<3.0.0,>=2.13.0->spacy>=3.0->pytextrank) (3.0.4)\n",
            "Requirement already satisfied: six in /usr/local/lib/python3.7/dist-packages (from asttokens>=2.0.1->icecream>=2.1->pytextrank) (1.15.0)\n",
            "Building wheels for collected packages: smart-open\n",
            "  Building wheel for smart-open (setup.py) ... \u001b[?25l\u001b[?25hdone\n",
            "  Created wheel for smart-open: filename=smart_open-3.0.0-cp37-none-any.whl size=107098 sha256=7444fada77e01d38f369e3fd582a72c3ffbc4488a34059d81e5f716f952c7021\n",
            "  Stored in directory: /root/.cache/pip/wheels/18/88/7c/f06dabd5e9cabe02d2269167bcacbbf9b47d0c0ff7d6ebcb78\n",
            "Successfully built smart-open\n",
            "\u001b[31mERROR: catalogue 2.0.2 has requirement importlib-metadata<3.3.0,>=0.20; python_version < \"3.8\", but you'll have importlib-metadata 3.8.1 which is incompatible.\u001b[0m\n",
            "Installing collected packages: typer, smart-open, pathy, catalogue, srsly, pydantic, thinc, spacy-legacy, spacy, colorama, asttokens, executing, icecream, graphviz, pytextrank\n",
            "  Found existing installation: smart-open 4.2.0\n",
            "    Uninstalling smart-open-4.2.0:\n",
            "      Successfully uninstalled smart-open-4.2.0\n",
            "  Found existing installation: catalogue 1.0.0\n",
            "    Uninstalling catalogue-1.0.0:\n",
            "      Successfully uninstalled catalogue-1.0.0\n",
            "  Found existing installation: srsly 1.0.5\n",
            "    Uninstalling srsly-1.0.5:\n",
            "      Successfully uninstalled srsly-1.0.5\n",
            "  Found existing installation: thinc 7.4.0\n",
            "    Uninstalling thinc-7.4.0:\n",
            "      Successfully uninstalled thinc-7.4.0\n",
            "  Found existing installation: spacy 2.2.4\n",
            "    Uninstalling spacy-2.2.4:\n",
            "      Successfully uninstalled spacy-2.2.4\n",
            "  Found existing installation: graphviz 0.10.1\n",
            "    Uninstalling graphviz-0.10.1:\n",
            "      Successfully uninstalled graphviz-0.10.1\n",
            "Successfully installed asttokens-2.0.4 catalogue-2.0.2 colorama-0.4.4 executing-0.5.4 graphviz-0.16 icecream-2.1.0 pathy-0.4.0 pydantic-1.7.3 pytextrank-3.1.1 smart-open-3.0.0 spacy-3.0.5 spacy-legacy-3.0.2 srsly-2.4.1 thinc-8.0.2 typer-0.3.2\n",
            "Requirement already satisfied: spacy in /usr/local/lib/python3.7/dist-packages (3.0.5)\n",
            "Requirement already satisfied: typer<0.4.0,>=0.3.0 in /usr/local/lib/python3.7/dist-packages (from spacy) (0.3.2)\n",
            "Requirement already satisfied: tqdm<5.0.0,>=4.38.0 in /usr/local/lib/python3.7/dist-packages (from spacy) (4.41.1)\n",
            "Requirement already satisfied: preshed<3.1.0,>=3.0.2 in /usr/local/lib/python3.7/dist-packages (from spacy) (3.0.5)\n",
            "Requirement already satisfied: requests<3.0.0,>=2.13.0 in /usr/local/lib/python3.7/dist-packages (from spacy) (2.23.0)\n",
            "Requirement already satisfied: typing-extensions<4.0.0.0,>=3.7.4; python_version < \"3.8\" in /usr/local/lib/python3.7/dist-packages (from spacy) (3.7.4.3)\n",
            "Requirement already satisfied: jinja2 in /usr/local/lib/python3.7/dist-packages (from spacy) (2.11.3)\n",
            "Requirement already satisfied: pathy>=0.3.5 in /usr/local/lib/python3.7/dist-packages (from spacy) (0.4.0)\n",
            "Requirement already satisfied: catalogue<2.1.0,>=2.0.1 in /usr/local/lib/python3.7/dist-packages (from spacy) (2.0.2)\n",
            "Requirement already satisfied: setuptools in /usr/local/lib/python3.7/dist-packages (from spacy) (54.2.0)\n",
            "Requirement already satisfied: numpy>=1.15.0 in /usr/local/lib/python3.7/dist-packages (from spacy) (1.19.5)\n",
            "Requirement already satisfied: srsly<3.0.0,>=2.4.0 in /usr/local/lib/python3.7/dist-packages (from spacy) (2.4.1)\n",
            "Requirement already satisfied: cymem<2.1.0,>=2.0.2 in /usr/local/lib/python3.7/dist-packages (from spacy) (2.0.5)\n",
            "Requirement already satisfied: packaging>=20.0 in /usr/local/lib/python3.7/dist-packages (from spacy) (20.9)\n",
            "Requirement already satisfied: wasabi<1.1.0,>=0.8.1 in /usr/local/lib/python3.7/dist-packages (from spacy) (0.8.2)\n",
            "Requirement already satisfied: thinc<8.1.0,>=8.0.2 in /usr/local/lib/python3.7/dist-packages (from spacy) (8.0.2)\n",
            "Requirement already satisfied: pydantic<1.8.0,>=1.7.1 in /usr/local/lib/python3.7/dist-packages (from spacy) (1.7.3)\n",
            "Requirement already satisfied: murmurhash<1.1.0,>=0.28.0 in /usr/local/lib/python3.7/dist-packages (from spacy) (1.0.5)\n",
            "Requirement already satisfied: blis<0.8.0,>=0.4.0 in /usr/local/lib/python3.7/dist-packages (from spacy) (0.4.1)\n",
            "Requirement already satisfied: importlib-metadata>=0.20; python_version < \"3.8\" in /usr/local/lib/python3.7/dist-packages (from spacy) (3.8.1)\n",
            "Requirement already satisfied: spacy-legacy<3.1.0,>=3.0.0 in /usr/local/lib/python3.7/dist-packages (from spacy) (3.0.2)\n",
            "Requirement already satisfied: click<7.2.0,>=7.1.1 in /usr/local/lib/python3.7/dist-packages (from typer<0.4.0,>=0.3.0->spacy) (7.1.2)\n",
            "Requirement already satisfied: idna<3,>=2.5 in /usr/local/lib/python3.7/dist-packages (from requests<3.0.0,>=2.13.0->spacy) (2.10)\n",
            "Requirement already satisfied: chardet<4,>=3.0.2 in /usr/local/lib/python3.7/dist-packages (from requests<3.0.0,>=2.13.0->spacy) (3.0.4)\n",
            "Requirement already satisfied: certifi>=2017.4.17 in /usr/local/lib/python3.7/dist-packages (from requests<3.0.0,>=2.13.0->spacy) (2020.12.5)\n",
            "Requirement already satisfied: urllib3!=1.25.0,!=1.25.1,<1.26,>=1.21.1 in /usr/local/lib/python3.7/dist-packages (from requests<3.0.0,>=2.13.0->spacy) (1.24.3)\n",
            "Requirement already satisfied: MarkupSafe>=0.23 in /usr/local/lib/python3.7/dist-packages (from jinja2->spacy) (1.1.1)\n",
            "Requirement already satisfied: smart-open<4.0.0,>=2.2.0 in /usr/local/lib/python3.7/dist-packages (from pathy>=0.3.5->spacy) (3.0.0)\n",
            "Requirement already satisfied: pyparsing>=2.0.2 in /usr/local/lib/python3.7/dist-packages (from packaging>=20.0->spacy) (2.4.7)\n",
            "Requirement already satisfied: zipp>=0.5 in /usr/local/lib/python3.7/dist-packages (from importlib-metadata>=0.20; python_version < \"3.8\"->spacy) (3.4.1)\n",
            "2021-04-13 15:05:24.841911: I tensorflow/stream_executor/platform/default/dso_loader.cc:49] Successfully opened dynamic library libcudart.so.11.0\n",
            "Collecting en-core-web-sm==3.0.0\n",
            "\u001b[?25l  Downloading https://github.com/explosion/spacy-models/releases/download/en_core_web_sm-3.0.0/en_core_web_sm-3.0.0-py3-none-any.whl (13.7MB)\n",
            "\u001b[K     |████████████████████████████████| 13.7MB 258kB/s \n",
            "\u001b[?25hRequirement already satisfied: spacy<3.1.0,>=3.0.0 in /usr/local/lib/python3.7/dist-packages (from en-core-web-sm==3.0.0) (3.0.5)\n",
            "Requirement already satisfied: thinc<8.1.0,>=8.0.2 in /usr/local/lib/python3.7/dist-packages (from spacy<3.1.0,>=3.0.0->en-core-web-sm==3.0.0) (8.0.2)\n",
            "Requirement already satisfied: spacy-legacy<3.1.0,>=3.0.0 in /usr/local/lib/python3.7/dist-packages (from spacy<3.1.0,>=3.0.0->en-core-web-sm==3.0.0) (3.0.2)\n",
            "Requirement already satisfied: tqdm<5.0.0,>=4.38.0 in /usr/local/lib/python3.7/dist-packages (from spacy<3.1.0,>=3.0.0->en-core-web-sm==3.0.0) (4.41.1)\n",
            "Requirement already satisfied: jinja2 in /usr/local/lib/python3.7/dist-packages (from spacy<3.1.0,>=3.0.0->en-core-web-sm==3.0.0) (2.11.3)\n",
            "Requirement already satisfied: typing-extensions<4.0.0.0,>=3.7.4; python_version < \"3.8\" in /usr/local/lib/python3.7/dist-packages (from spacy<3.1.0,>=3.0.0->en-core-web-sm==3.0.0) (3.7.4.3)\n",
            "Requirement already satisfied: setuptools in /usr/local/lib/python3.7/dist-packages (from spacy<3.1.0,>=3.0.0->en-core-web-sm==3.0.0) (54.2.0)\n",
            "Requirement already satisfied: preshed<3.1.0,>=3.0.2 in /usr/local/lib/python3.7/dist-packages (from spacy<3.1.0,>=3.0.0->en-core-web-sm==3.0.0) (3.0.5)\n",
            "Requirement already satisfied: pydantic<1.8.0,>=1.7.1 in /usr/local/lib/python3.7/dist-packages (from spacy<3.1.0,>=3.0.0->en-core-web-sm==3.0.0) (1.7.3)\n",
            "Requirement already satisfied: pathy>=0.3.5 in /usr/local/lib/python3.7/dist-packages (from spacy<3.1.0,>=3.0.0->en-core-web-sm==3.0.0) (0.4.0)\n",
            "Requirement already satisfied: typer<0.4.0,>=0.3.0 in /usr/local/lib/python3.7/dist-packages (from spacy<3.1.0,>=3.0.0->en-core-web-sm==3.0.0) (0.3.2)\n",
            "Requirement already satisfied: wasabi<1.1.0,>=0.8.1 in /usr/local/lib/python3.7/dist-packages (from spacy<3.1.0,>=3.0.0->en-core-web-sm==3.0.0) (0.8.2)\n",
            "Requirement already satisfied: requests<3.0.0,>=2.13.0 in /usr/local/lib/python3.7/dist-packages (from spacy<3.1.0,>=3.0.0->en-core-web-sm==3.0.0) (2.23.0)\n",
            "Requirement already satisfied: murmurhash<1.1.0,>=0.28.0 in /usr/local/lib/python3.7/dist-packages (from spacy<3.1.0,>=3.0.0->en-core-web-sm==3.0.0) (1.0.5)\n",
            "Requirement already satisfied: srsly<3.0.0,>=2.4.0 in /usr/local/lib/python3.7/dist-packages (from spacy<3.1.0,>=3.0.0->en-core-web-sm==3.0.0) (2.4.1)\n",
            "Requirement already satisfied: blis<0.8.0,>=0.4.0 in /usr/local/lib/python3.7/dist-packages (from spacy<3.1.0,>=3.0.0->en-core-web-sm==3.0.0) (0.4.1)\n",
            "Requirement already satisfied: importlib-metadata>=0.20; python_version < \"3.8\" in /usr/local/lib/python3.7/dist-packages (from spacy<3.1.0,>=3.0.0->en-core-web-sm==3.0.0) (3.8.1)\n",
            "Requirement already satisfied: cymem<2.1.0,>=2.0.2 in /usr/local/lib/python3.7/dist-packages (from spacy<3.1.0,>=3.0.0->en-core-web-sm==3.0.0) (2.0.5)\n",
            "Requirement already satisfied: packaging>=20.0 in /usr/local/lib/python3.7/dist-packages (from spacy<3.1.0,>=3.0.0->en-core-web-sm==3.0.0) (20.9)\n",
            "Requirement already satisfied: catalogue<2.1.0,>=2.0.1 in /usr/local/lib/python3.7/dist-packages (from spacy<3.1.0,>=3.0.0->en-core-web-sm==3.0.0) (2.0.2)\n",
            "Requirement already satisfied: numpy>=1.15.0 in /usr/local/lib/python3.7/dist-packages (from spacy<3.1.0,>=3.0.0->en-core-web-sm==3.0.0) (1.19.5)\n",
            "Requirement already satisfied: MarkupSafe>=0.23 in /usr/local/lib/python3.7/dist-packages (from jinja2->spacy<3.1.0,>=3.0.0->en-core-web-sm==3.0.0) (1.1.1)\n",
            "Requirement already satisfied: smart-open<4.0.0,>=2.2.0 in /usr/local/lib/python3.7/dist-packages (from pathy>=0.3.5->spacy<3.1.0,>=3.0.0->en-core-web-sm==3.0.0) (3.0.0)\n",
            "Requirement already satisfied: click<7.2.0,>=7.1.1 in /usr/local/lib/python3.7/dist-packages (from typer<0.4.0,>=0.3.0->spacy<3.1.0,>=3.0.0->en-core-web-sm==3.0.0) (7.1.2)\n",
            "Requirement already satisfied: urllib3!=1.25.0,!=1.25.1,<1.26,>=1.21.1 in /usr/local/lib/python3.7/dist-packages (from requests<3.0.0,>=2.13.0->spacy<3.1.0,>=3.0.0->en-core-web-sm==3.0.0) (1.24.3)\n",
            "Requirement already satisfied: certifi>=2017.4.17 in /usr/local/lib/python3.7/dist-packages (from requests<3.0.0,>=2.13.0->spacy<3.1.0,>=3.0.0->en-core-web-sm==3.0.0) (2020.12.5)\n",
            "Requirement already satisfied: chardet<4,>=3.0.2 in /usr/local/lib/python3.7/dist-packages (from requests<3.0.0,>=2.13.0->spacy<3.1.0,>=3.0.0->en-core-web-sm==3.0.0) (3.0.4)\n",
            "Requirement already satisfied: idna<3,>=2.5 in /usr/local/lib/python3.7/dist-packages (from requests<3.0.0,>=2.13.0->spacy<3.1.0,>=3.0.0->en-core-web-sm==3.0.0) (2.10)\n",
            "Requirement already satisfied: zipp>=0.5 in /usr/local/lib/python3.7/dist-packages (from importlib-metadata>=0.20; python_version < \"3.8\"->spacy<3.1.0,>=3.0.0->en-core-web-sm==3.0.0) (3.4.1)\n",
            "Requirement already satisfied: pyparsing>=2.0.2 in /usr/local/lib/python3.7/dist-packages (from packaging>=20.0->spacy<3.1.0,>=3.0.0->en-core-web-sm==3.0.0) (2.4.7)\n",
            "Installing collected packages: en-core-web-sm\n",
            "  Found existing installation: en-core-web-sm 2.2.5\n",
            "    Uninstalling en-core-web-sm-2.2.5:\n",
            "      Successfully uninstalled en-core-web-sm-2.2.5\n",
            "Successfully installed en-core-web-sm-3.0.0\n",
            "\u001b[38;5;2m✔ Download and installation successful\u001b[0m\n",
            "You can now load the package via spacy.load('en_core_web_sm')\n",
            "Collecting PyMuPDF\n",
            "\u001b[?25l  Downloading https://files.pythonhosted.org/packages/3a/f4/3dfa60b77d8b2060c524958780fd085ef2ae91bfc2ba9a493df7d0abaf84/PyMuPDF-1.18.12-cp37-cp37m-manylinux2010_x86_64.whl (6.4MB)\n",
            "\u001b[K     |████████████████████████████████| 6.4MB 5.3MB/s \n",
            "\u001b[?25hInstalling collected packages: PyMuPDF\n",
            "Successfully installed PyMuPDF-1.18.12\n",
            "Collecting fitz\n",
            "  Downloading https://files.pythonhosted.org/packages/7e/28/27f27d66eb82f24e6595deb26c0a875e62431878c416e38eac515023abb2/fitz-0.0.1.dev2-py2.py3-none-any.whl\n",
            "Requirement already satisfied: httplib2 in /usr/local/lib/python3.7/dist-packages (from fitz) (0.17.4)\n",
            "Requirement already satisfied: nibabel in /usr/local/lib/python3.7/dist-packages (from fitz) (3.0.2)\n",
            "Collecting configparser\n",
            "  Downloading https://files.pythonhosted.org/packages/fd/01/ff260a18caaf4457eb028c96eeb405c4a230ca06c8ec9c1379f813caa52e/configparser-5.0.2-py3-none-any.whl\n",
            "Requirement already satisfied: scipy in /usr/local/lib/python3.7/dist-packages (from fitz) (1.4.1)\n",
            "Collecting pyxnat\n",
            "\u001b[?25l  Downloading https://files.pythonhosted.org/packages/ac/c1/8d55035ff44783ec840bab127419365b5b8a2253fb77c4e8db1ea7fe43c0/pyxnat-1.4.tar.gz (78kB)\n",
            "\u001b[K     |████████████████████████████████| 81kB 3.8MB/s \n",
            "\u001b[?25hRequirement already satisfied: numpy in /usr/local/lib/python3.7/dist-packages (from fitz) (1.19.5)\n",
            "Collecting configobj\n",
            "  Downloading https://files.pythonhosted.org/packages/64/61/079eb60459c44929e684fa7d9e2fdca403f67d64dd9dbac27296be2e0fab/configobj-5.0.6.tar.gz\n",
            "Requirement already satisfied: pandas in /usr/local/lib/python3.7/dist-packages (from fitz) (1.1.5)\n",
            "Collecting nipype\n",
            "\u001b[?25l  Downloading https://files.pythonhosted.org/packages/1f/0e/348956e47dfa73e359c55f9249d61fdd0526ab24d761a0b94299b1a9f88b/nipype-1.6.0-py3-none-any.whl (3.1MB)\n",
            "\u001b[K     |████████████████████████████████| 3.2MB 7.6MB/s \n",
            "\u001b[?25hCollecting lxml>=4.3\n",
            "\u001b[?25l  Downloading https://files.pythonhosted.org/packages/cf/4d/6537313bf58fe22b508f08cf3eb86b29b6f9edf68e00454224539421073b/lxml-4.6.3-cp37-cp37m-manylinux1_x86_64.whl (5.5MB)\n",
            "\u001b[K     |████████████████████████████████| 5.5MB 33.2MB/s \n",
            "\u001b[?25hRequirement already satisfied: requests>=2.20 in /usr/local/lib/python3.7/dist-packages (from pyxnat->fitz) (2.23.0)\n",
            "Requirement already satisfied: pathlib>=1.0 in /usr/local/lib/python3.7/dist-packages (from pyxnat->fitz) (1.0.1)\n",
            "Requirement already satisfied: six>=1.15 in /usr/local/lib/python3.7/dist-packages (from pyxnat->fitz) (1.15.0)\n",
            "Requirement already satisfied: future>=0.16 in /usr/local/lib/python3.7/dist-packages (from pyxnat->fitz) (0.16.0)\n",
            "Requirement already satisfied: python-dateutil>=2.7.3 in /usr/local/lib/python3.7/dist-packages (from pandas->fitz) (2.8.1)\n",
            "Requirement already satisfied: pytz>=2017.2 in /usr/local/lib/python3.7/dist-packages (from pandas->fitz) (2018.9)\n",
            "Collecting etelemetry>=0.2.0\n",
            "  Downloading https://files.pythonhosted.org/packages/13/f9/e8e8cd04bdc44dfba28a3b2cc4d0b1efe8cbf3afc1bf12b11f1c9d697f1e/etelemetry-0.2.2-py3-none-any.whl\n",
            "Collecting prov>=1.5.2\n",
            "\u001b[?25l  Downloading https://files.pythonhosted.org/packages/cf/8d/9a5110845c6b117d203e3ca9eec5ee79bed29cef508c8415fbc85e900150/prov-2.0.0-py3-none-any.whl (421kB)\n",
            "\u001b[K     |████████████████████████████████| 430kB 60.7MB/s \n",
            "\u001b[?25hRequirement already satisfied: pydot>=1.2.3 in /usr/local/lib/python3.7/dist-packages (from nipype->fitz) (1.3.0)\n",
            "Collecting traits!=5.0,>=4.6\n",
            "\u001b[?25l  Downloading https://files.pythonhosted.org/packages/c5/40/225cc2bba4c0466fdb5d9d67aac164bbe6320428eb11a71084be4338aceb/traits-6.2.0-cp37-cp37m-manylinux2010_x86_64.whl (5.1MB)\n",
            "\u001b[K     |████████████████████████████████| 5.1MB 45.7MB/s \n",
            "\u001b[?25hCollecting rdflib>=5.0.0\n",
            "\u001b[?25l  Downloading https://files.pythonhosted.org/packages/d0/6b/6454aa1db753c0f8bc265a5bd5c10b5721a4bb24160fb4faf758cf6be8a1/rdflib-5.0.0-py3-none-any.whl (231kB)\n",
            "\u001b[K     |████████████████████████████████| 235kB 60.9MB/s \n",
            "\u001b[?25hRequirement already satisfied: click>=6.6.0 in /usr/local/lib/python3.7/dist-packages (from nipype->fitz) (7.1.2)\n",
            "Collecting simplejson>=3.8.0\n",
            "\u001b[?25l  Downloading https://files.pythonhosted.org/packages/a8/04/377418ac1e530ce2a196b54c6552c018fdf1fe776718053efb1f216bffcd/simplejson-3.17.2-cp37-cp37m-manylinux2010_x86_64.whl (128kB)\n",
            "\u001b[K     |████████████████████████████████| 133kB 56.1MB/s \n",
            "\u001b[?25hRequirement already satisfied: filelock>=3.0.0 in /usr/local/lib/python3.7/dist-packages (from nipype->fitz) (3.0.12)\n",
            "Requirement already satisfied: packaging in /usr/local/lib/python3.7/dist-packages (from nipype->fitz) (20.9)\n",
            "Requirement already satisfied: networkx>=2.0 in /usr/local/lib/python3.7/dist-packages (from nipype->fitz) (2.5)\n",
            "Requirement already satisfied: certifi>=2017.4.17 in /usr/local/lib/python3.7/dist-packages (from requests>=2.20->pyxnat->fitz) (2020.12.5)\n",
            "Requirement already satisfied: idna<3,>=2.5 in /usr/local/lib/python3.7/dist-packages (from requests>=2.20->pyxnat->fitz) (2.10)\n",
            "Requirement already satisfied: urllib3!=1.25.0,!=1.25.1,<1.26,>=1.21.1 in /usr/local/lib/python3.7/dist-packages (from requests>=2.20->pyxnat->fitz) (1.24.3)\n",
            "Requirement already satisfied: chardet<4,>=3.0.2 in /usr/local/lib/python3.7/dist-packages (from requests>=2.20->pyxnat->fitz) (3.0.4)\n",
            "Collecting ci-info>=0.2\n",
            "  Downloading https://files.pythonhosted.org/packages/cf/01/664a10490000d7154fa71358af87681696b8116a12d869a267063c470fbc/ci_info-0.2.0-py3-none-any.whl\n",
            "Requirement already satisfied: pyparsing>=2.1.4 in /usr/local/lib/python3.7/dist-packages (from pydot>=1.2.3->nipype->fitz) (2.4.7)\n",
            "Collecting isodate\n",
            "\u001b[?25l  Downloading https://files.pythonhosted.org/packages/9b/9f/b36f7774ff5ea8e428fdcfc4bb332c39ee5b9362ddd3d40d9516a55221b2/isodate-0.6.0-py2.py3-none-any.whl (45kB)\n",
            "\u001b[K     |████████████████████████████████| 51kB 8.1MB/s \n",
            "\u001b[?25hRequirement already satisfied: decorator>=4.3.0 in /usr/local/lib/python3.7/dist-packages (from networkx>=2.0->nipype->fitz) (4.4.2)\n",
            "Building wheels for collected packages: pyxnat, configobj\n",
            "  Building wheel for pyxnat (setup.py) ... \u001b[?25l\u001b[?25hdone\n",
            "  Created wheel for pyxnat: filename=pyxnat-1.4-cp37-none-any.whl size=92688 sha256=87efe7574219798868e81f5caab8322a5c6fb3c1dde4d98f7249763324ea008f\n",
            "  Stored in directory: /root/.cache/pip/wheels/db/64/83/16e08dbf817bc92dfb70dd9b0d5df4e3d7ff2867af68fd08af\n",
            "  Building wheel for configobj (setup.py) ... \u001b[?25l\u001b[?25hdone\n",
            "  Created wheel for configobj: filename=configobj-5.0.6-cp37-none-any.whl size=34547 sha256=6bc6a9ae849ba789b4687cf360c5ccd37cc303d0a545d026e38c7285fcc3753e\n",
            "  Stored in directory: /root/.cache/pip/wheels/f1/e4/16/4981ca97c2d65106b49861e0b35e2660695be7219a2d351ee0\n",
            "Successfully built pyxnat configobj\n",
            "Installing collected packages: configparser, lxml, pyxnat, configobj, ci-info, etelemetry, isodate, rdflib, prov, traits, simplejson, nipype, fitz\n",
            "  Found existing installation: lxml 4.2.6\n",
            "    Uninstalling lxml-4.2.6:\n",
            "      Successfully uninstalled lxml-4.2.6\n",
            "Successfully installed ci-info-0.2.0 configobj-5.0.6 configparser-5.0.2 etelemetry-0.2.2 fitz-0.0.1.dev2 isodate-0.6.0 lxml-4.6.3 nipype-1.6.0 prov-2.0.0 pyxnat-1.4 rdflib-5.0.0 simplejson-3.17.2 traits-6.2.0\n",
            "Collecting transformers\n",
            "\u001b[?25l  Downloading https://files.pythonhosted.org/packages/81/91/61d69d58a1af1bd81d9ca9d62c90a6de3ab80d77f27c5df65d9a2c1f5626/transformers-4.5.0-py3-none-any.whl (2.1MB)\n",
            "\u001b[K     |████████████████████████████████| 2.2MB 4.5MB/s \n",
            "\u001b[?25hRequirement already satisfied: packaging in /usr/local/lib/python3.7/dist-packages (from transformers) (20.9)\n",
            "Requirement already satisfied: regex!=2019.12.17 in /usr/local/lib/python3.7/dist-packages (from transformers) (2019.12.20)\n",
            "Requirement already satisfied: filelock in /usr/local/lib/python3.7/dist-packages (from transformers) (3.0.12)\n",
            "Requirement already satisfied: requests in /usr/local/lib/python3.7/dist-packages (from transformers) (2.23.0)\n",
            "Collecting sacremoses\n",
            "\u001b[?25l  Downloading https://files.pythonhosted.org/packages/08/cd/342e584ee544d044fb573ae697404ce22ede086c9e87ce5960772084cad0/sacremoses-0.0.44.tar.gz (862kB)\n",
            "\u001b[K     |████████████████████████████████| 870kB 36.2MB/s \n",
            "\u001b[?25hRequirement already satisfied: numpy>=1.17 in /usr/local/lib/python3.7/dist-packages (from transformers) (1.19.5)\n",
            "Requirement already satisfied: tqdm>=4.27 in /usr/local/lib/python3.7/dist-packages (from transformers) (4.41.1)\n",
            "Collecting tokenizers<0.11,>=0.10.1\n",
            "\u001b[?25l  Downloading https://files.pythonhosted.org/packages/ae/04/5b870f26a858552025a62f1649c20d29d2672c02ff3c3fb4c688ca46467a/tokenizers-0.10.2-cp37-cp37m-manylinux2010_x86_64.whl (3.3MB)\n",
            "\u001b[K     |████████████████████████████████| 3.3MB 37.3MB/s \n",
            "\u001b[?25hRequirement already satisfied: importlib-metadata; python_version < \"3.8\" in /usr/local/lib/python3.7/dist-packages (from transformers) (3.8.1)\n",
            "Requirement already satisfied: pyparsing>=2.0.2 in /usr/local/lib/python3.7/dist-packages (from packaging->transformers) (2.4.7)\n",
            "Requirement already satisfied: idna<3,>=2.5 in /usr/local/lib/python3.7/dist-packages (from requests->transformers) (2.10)\n",
            "Requirement already satisfied: chardet<4,>=3.0.2 in /usr/local/lib/python3.7/dist-packages (from requests->transformers) (3.0.4)\n",
            "Requirement already satisfied: certifi>=2017.4.17 in /usr/local/lib/python3.7/dist-packages (from requests->transformers) (2020.12.5)\n",
            "Requirement already satisfied: urllib3!=1.25.0,!=1.25.1,<1.26,>=1.21.1 in /usr/local/lib/python3.7/dist-packages (from requests->transformers) (1.24.3)\n",
            "Requirement already satisfied: six in /usr/local/lib/python3.7/dist-packages (from sacremoses->transformers) (1.15.0)\n",
            "Requirement already satisfied: click in /usr/local/lib/python3.7/dist-packages (from sacremoses->transformers) (7.1.2)\n",
            "Requirement already satisfied: joblib in /usr/local/lib/python3.7/dist-packages (from sacremoses->transformers) (1.0.1)\n",
            "Requirement already satisfied: typing-extensions>=3.6.4; python_version < \"3.8\" in /usr/local/lib/python3.7/dist-packages (from importlib-metadata; python_version < \"3.8\"->transformers) (3.7.4.3)\n",
            "Requirement already satisfied: zipp>=0.5 in /usr/local/lib/python3.7/dist-packages (from importlib-metadata; python_version < \"3.8\"->transformers) (3.4.1)\n",
            "Building wheels for collected packages: sacremoses\n",
            "  Building wheel for sacremoses (setup.py) ... \u001b[?25l\u001b[?25hdone\n",
            "  Created wheel for sacremoses: filename=sacremoses-0.0.44-cp37-none-any.whl size=886084 sha256=2251ecd988385b858a6803e458686c1a9dd9f30db27ba4dd05cc0032bebb3ea4\n",
            "  Stored in directory: /root/.cache/pip/wheels/3e/fb/c0/13ab4d63d537658f448366744654323077c4d90069b6512f3c\n",
            "Successfully built sacremoses\n",
            "Installing collected packages: sacremoses, tokenizers, transformers\n",
            "Successfully installed sacremoses-0.0.44 tokenizers-0.10.2 transformers-4.5.0\n",
            "Collecting sentencepiece\n",
            "\u001b[?25l  Downloading https://files.pythonhosted.org/packages/f5/99/e0808cb947ba10f575839c43e8fafc9cc44e4a7a2c8f79c60db48220a577/sentencepiece-0.1.95-cp37-cp37m-manylinux2014_x86_64.whl (1.2MB)\n",
            "\u001b[K     |████████████████████████████████| 1.2MB 4.4MB/s \n",
            "\u001b[?25hInstalling collected packages: sentencepiece\n",
            "Successfully installed sentencepiece-0.1.95\n"
          ],
          "name": "stdout"
        }
      ]
    },
    {
      "cell_type": "markdown",
      "metadata": {
        "id": "fFQW3ot-RVuJ"
      },
      "source": [
        "# New Section"
      ]
    },
    {
      "cell_type": "code",
      "metadata": {
        "colab": {
          "base_uri": "https://localhost:8080/"
        },
        "id": "9cahlJXPhJMq",
        "outputId": "b944aac2-5d16-4d5c-fe7c-780d0a02e711"
      },
      "source": [
        "import pandas as pd \n",
        "from glob import glob\n",
        "from tika import parser # pip install tika\n",
        "import re\n",
        "import string\n",
        "import nltk\n",
        "from wordcloud import WordCloud\n",
        "import matplotlib.pyplot as plt\n",
        "import spacy\n",
        "import pytextrank\n",
        "import numpy as np\n",
        "import os\n",
        "import textwrap\n",
        "import ipywidgets as widgets\n",
        "from PIL import Image\n",
        "import matplotlib.pyplot as plt\n",
        "import matplotlib.image as mpimg\n",
        "from sklearn.feature_extraction.text import TfidfVectorizer\n",
        "from sklearn.decomposition import NMF\n",
        "from gensim.summarization import keywords, mz_keywords\n",
        "from nltk.tokenize import word_tokenize\n",
        "from nltk.tokenize import sent_tokenize\n",
        "from nltk.corpus import stopwords\n",
        "nltk.download('punkt')\n",
        "nltk.download('stopwords')\n",
        "nltk.download('wordnet')\n",
        "from google.colab import drive\n",
        "drive.mount('/content/gdrive/')"
      ],
      "execution_count": null,
      "outputs": [
        {
          "output_type": "stream",
          "text": [
            "[nltk_data] Downloading package punkt to /root/nltk_data...\n",
            "[nltk_data]   Unzipping tokenizers/punkt.zip.\n",
            "[nltk_data] Downloading package stopwords to /root/nltk_data...\n",
            "[nltk_data]   Unzipping corpora/stopwords.zip.\n",
            "[nltk_data] Downloading package wordnet to /root/nltk_data...\n",
            "[nltk_data]   Unzipping corpora/wordnet.zip.\n",
            "Mounted at /content/gdrive/\n"
          ],
          "name": "stdout"
        }
      ]
    },
    {
      "cell_type": "code",
      "metadata": {
        "colab": {
          "base_uri": "https://localhost:8080/"
        },
        "id": "ZGWXw06PhKLh",
        "outputId": "44c75d70-4acf-4bbf-fea9-d4ba37df383c"
      },
      "source": [
        "fileContent={}\n",
        "for file1 in glob(f\"/content/gdrive/My Drive/Data 606/*.pdf\"):\n",
        "  print(file1)\n",
        "  raw = parser.from_file(file1)\n",
        "  title=''\n",
        "  #fileContent.append(raw['content'])\n",
        "  #print(raw['content'])\n",
        "  if 'dc:title' in raw['metadata'].keys():\n",
        "    #print(raw['metadata']['dc:title'])\n",
        "    title=raw['metadata']['dc:title']\n",
        "  else:\n",
        "    #continue\n",
        "    title=os.path.basename(file1)\n",
        "  fileContent[os.path.basename(file1)]={'Title': title , 'Content': raw['content']}\n",
        "  \n"
      ],
      "execution_count": null,
      "outputs": [
        {
          "output_type": "stream",
          "text": [
            "2021-04-13 15:07:33,263 [MainThread  ] [INFO ]  Retrieving http://search.maven.org/remotecontent?filepath=org/apache/tika/tika-server/1.24/tika-server-1.24.jar to /tmp/tika-server.jar.\n"
          ],
          "name": "stderr"
        },
        {
          "output_type": "stream",
          "text": [
            "/content/gdrive/My Drive/Data 606/1-s2.0-S2352827321000264-main.pdf\n"
          ],
          "name": "stdout"
        },
        {
          "output_type": "stream",
          "text": [
            "2021-04-13 15:07:34,294 [MainThread  ] [INFO ]  Retrieving http://search.maven.org/remotecontent?filepath=org/apache/tika/tika-server/1.24/tika-server-1.24.jar.md5 to /tmp/tika-server.jar.md5.\n",
            "2021-04-13 15:07:34,639 [MainThread  ] [WARNI]  Failed to see startup log message; retrying...\n"
          ],
          "name": "stderr"
        },
        {
          "output_type": "stream",
          "text": [
            "/content/gdrive/My Drive/Data 606/1-s2.0-S2213671121000886-main.pdf\n",
            "/content/gdrive/My Drive/Data 606/1-s2.0-S2213671121000904-main.pdf\n",
            "/content/gdrive/My Drive/Data 606/1-s2.0-S1517758021000023-main.pdf\n",
            "/content/gdrive/My Drive/Data 606/1-s2.0-S1876201821000575-main.pdf\n",
            "/content/gdrive/My Drive/Data 606/1-s2.0-S0378111921000901-main.pdf\n",
            "/content/gdrive/My Drive/Data 606/1-s2.0-S0223523421001434-main.pdf\n",
            "/content/gdrive/My Drive/Data 606/1-s2.0-S1018364721000276-main.pdf\n",
            "/content/gdrive/My Drive/Data 606/1-s2.0-S2667147621000273-main.pdf\n",
            "/content/gdrive/My Drive/Data 606/1-s2.0-S0020653921000368-main.pdf\n",
            "/content/gdrive/My Drive/Data 606/1-s2.0-S241464472100004X-main.pdf\n",
            "/content/gdrive/My Drive/Data 606/1-s2.0-S2667147621000182-main.pdf\n",
            "/content/gdrive/My Drive/Data 606/1-s2.0-S0196655321000614-main.pdf\n",
            "/content/gdrive/My Drive/Data 606/1-s2.0-S0885392421001718-main.pdf\n",
            "/content/gdrive/My Drive/Data 606/1-s2.0-S0306987721000529-main.pdf\n",
            "/content/gdrive/My Drive/Data 606/1-s2.0-S0163445321000803-main.pdf\n",
            "/content/gdrive/My Drive/Data 606/1-s2.0-S0891584921000824-main.pdf\n",
            "/content/gdrive/My Drive/Data 606/1-s2.0-S0163445321000438-main.pdf\n",
            "/content/gdrive/My Drive/Data 606/1-s2.0-S0899900721000642-main.pdf\n",
            "/content/gdrive/My Drive/Data 606/1-s2.0-S0378475421000392-main.pdf\n",
            "/content/gdrive/My Drive/Data 606/1-s2.0-S0022519321000436-main.pdf\n",
            "/content/gdrive/My Drive/Data 606/1-s2.0-S0882401021000139-main.pdf\n",
            "/content/gdrive/My Drive/Data 606/1-s2.0-S0271531720305984-main.pdf\n",
            "/content/gdrive/My Drive/Data 606/1-s2.0-S2590037421000054-main.pdf\n",
            "/content/gdrive/My Drive/Data 606/1-s2.0-S0022395621000753-main.pdf\n",
            "/content/gdrive/My Drive/Data 606/1-s2.0-S0022395621000868-main.pdf\n",
            "/content/gdrive/My Drive/Data 606/1-s2.0-S2589537021000237-main.pdf\n",
            "/content/gdrive/My Drive/Data 606/1-s2.0-S0163445321000797-main.pdf\n",
            "/content/gdrive/My Drive/Data 606/1-s2.0-S0163445321000797-main (1).pdf\n",
            "/content/gdrive/My Drive/Data 606/1-s2.0-S1201971221001272-main.pdf\n",
            "/content/gdrive/My Drive/Data 606/1-s2.0-S1010518221000494-main.pdf\n",
            "/content/gdrive/My Drive/Data 606/1-s2.0-S0304406821000197-main.pdf\n",
            "/content/gdrive/My Drive/Data 606/1-s2.0-S2211379721000887-main.pdf\n",
            "/content/gdrive/My Drive/Data 606/1-s2.0-S0954611121000184-main.pdf\n",
            "/content/gdrive/My Drive/Data 606/1-s2.0-S1570677X21000125-main.pdf\n",
            "/content/gdrive/My Drive/Data 606/1-s2.0-S1932227521000161-main.pdf\n",
            "/content/gdrive/My Drive/Data 606/1-s2.0-S0092867421001768-main.pdf\n",
            "/content/gdrive/My Drive/Data 606/1-s2.0-S240584402100390X-main.pdf\n",
            "/content/gdrive/My Drive/Data 606/1-s2.0-S1479666X21000287-main.pdf\n",
            "/content/gdrive/My Drive/Data 606/1-s2.0-S1479666X21000299-main.pdf\n",
            "/content/gdrive/My Drive/Data 606/1-s2.0-S0191886921001458-main.pdf\n",
            "/content/gdrive/My Drive/Data 606/1-s2.0-S1931524421000293-main.pdf\n",
            "/content/gdrive/My Drive/Data 606/1-s2.0-S2214785321010130-main.pdf\n",
            "/content/gdrive/My Drive/Data 606/1-s2.0-S2589004221001565-main.pdf\n",
            "/content/gdrive/My Drive/Data 606/1-s2.0-S1319562X21000735-main.pdf\n",
            "/content/gdrive/My Drive/Data 606/1-s2.0-S2213343721001998-main.pdf\n",
            "/content/gdrive/My Drive/Data 606/1-s2.0-S0277953621000800-main.pdf\n",
            "/content/gdrive/My Drive/Data 606/1-s2.0-S2405844021003947-main.pdf\n",
            "/content/gdrive/My Drive/Data 606/1-s2.0-S204908012100114X-main.pdf\n",
            "/content/gdrive/My Drive/Data 606/1-s2.0-S0960077921001296-main.pdf\n",
            "/content/gdrive/My Drive/Data 606/1-s2.0-S0191886921001471-main.pdf\n",
            "/content/gdrive/My Drive/Data 606/1-s2.0-S1471490621000272-main.pdf\n",
            "/content/gdrive/My Drive/Data 606/1-s2.0-S0033350621000421-main.pdf\n",
            "/content/gdrive/My Drive/Data 606/1-s2.0-S1090951621000092-main.pdf\n",
            "/content/gdrive/My Drive/Data 606/1-s2.0-S2059702921000090-main.pdf\n",
            "/content/gdrive/My Drive/Data 606/1-s2.0-S2173578621000020-main.pdf\n",
            "/content/gdrive/My Drive/Data 606/1-s2.0-S0191886921001446-main.pdf\n",
            "/content/gdrive/My Drive/Data 606/1-s2.0-S0976566221000801-main.pdf\n",
            "/content/gdrive/My Drive/Data 606/1-s2.0-S0304389421003800-main.pdf\n",
            "/content/gdrive/My Drive/Data 606/1-s2.0-S2352186421000778-main.pdf\n",
            "/content/gdrive/My Drive/Data 606/1-s2.0-S0167732221003615-main.pdf\n",
            "/content/gdrive/My Drive/Data 606/1-s2.0-S2213671121000898-main.pdf\n",
            "/content/gdrive/My Drive/Data 606/1-s2.0-S0960077921001247-main.pdf\n",
            "/content/gdrive/My Drive/Data 606/1-s2.0-S2049080121001199-main.pdf\n",
            "/content/gdrive/My Drive/Data 606/1-s2.0-S2589004221001553-main.pdf\n",
            "/content/gdrive/My Drive/Data 606/1-s2.0-S0010782421000305-main.pdf\n",
            "/content/gdrive/My Drive/Data 606/1-s2.0-S2095881121000159-main.pdf\n",
            "/content/gdrive/My Drive/Data 606/1-s2.0-S1525505021000895-main.pdf\n",
            "/content/gdrive/My Drive/Data 606/1-s2.0-S193222752100015X-main.pdf\n",
            "/content/gdrive/My Drive/Data 606/1-s2.0-S152550502100086X-main.pdf\n",
            "/content/gdrive/My Drive/Data 606/09247659.pdf\n",
            "/content/gdrive/My Drive/Data 606/09313472.pdf\n",
            "/content/gdrive/My Drive/Data 606/09281179.pdf\n",
            "/content/gdrive/My Drive/Data 606/1-s2.0-S2213398420302645-main.pdf\n",
            "/content/gdrive/My Drive/Data 606/ciaa1880.pdf\n",
            "/content/gdrive/My Drive/Data 606/PIIS0140673620302117.pdf\n",
            "/content/gdrive/My Drive/Data 606/ciaa673.pdf\n",
            "/content/gdrive/My Drive/Data 606/1-s2.0-S0753332221000858-main.pdf\n",
            "/content/gdrive/My Drive/Data 606/Gao2021_Article_AbsentImmuneResponseToSARS-CoV.pdf\n",
            "/content/gdrive/My Drive/Data 606/Harapan-Yoo2021_Article_NeurologicalSymptomsManifestat.pdf\n",
            "/content/gdrive/My Drive/Data 606/i1543-2165-145-1-32.pdf\n",
            "/content/gdrive/My Drive/Data 606/MJA2-9999-na.pdf\n",
            "/content/gdrive/My Drive/Data 606/1-s2.0-S1876034120307541-main.pdf\n",
            "/content/gdrive/My Drive/Data 606/biology-10-00002.pdf\n",
            "/content/gdrive/My Drive/Data 606/[14761645 - The American Journal of Tropical Medicine and Hygiene] Limited Secondary Transmission of the Novel Coronavirus (SARS-CoV-2) by Asymptomatic and Mild COVID-19 Patients in Bhutan.pdf\n",
            "/content/gdrive/My Drive/Data 606/Microbiology Resource Announcements-2020-Padilla-Rojas-e00303-20.full.pdf\n",
            "/content/gdrive/My Drive/Data 606/Orooji2020_Article_AnOverviewOnSARS-CoV-2COVID-19.pdf\n",
            "/content/gdrive/My Drive/Data 606/10096_2020_Article_3978.pdf\n",
            "/content/gdrive/My Drive/Data 606/cdc_100098_DS1.pdf\n",
            "/content/gdrive/My Drive/Data 606/1-s2.0-S0378111920309823-main.pdf\n",
            "/content/gdrive/My Drive/Data 606/1-s2.0-S1201971220321962-main.pdf\n",
            "/content/gdrive/My Drive/Data 606/main.pdf\n",
            "/content/gdrive/My Drive/Data 606/1-s2.0-S2213716520302915-main.pdf\n",
            "/content/gdrive/My Drive/Data 606/viruses-13-00202.pdf\n",
            "/content/gdrive/My Drive/Data 606/main (1).pdf\n",
            "/content/gdrive/My Drive/Data 606/ANDR-9999-na.pdf\n",
            "/content/gdrive/My Drive/Data 606/JMV-9999-na.pdf\n",
            "/content/gdrive/My Drive/Data 606/main (2).pdf\n",
            "/content/gdrive/My Drive/Data 606/Disposable face masks ....pdf\n",
            "/content/gdrive/My Drive/Data 606/ofaa555.pdf\n",
            "/content/gdrive/My Drive/Data 606/1-s2.0-S1319562X20305635-main.pdf\n",
            "/content/gdrive/My Drive/Data 606/1-s2.0-S1319562X20305684-main.pdf\n",
            "/content/gdrive/My Drive/Data 606/1-s2.0-S1018364720303487-main.pdf\n",
            "/content/gdrive/My Drive/Data 606/PIIS2405844021003054.pdf\n",
            "/content/gdrive/My Drive/Data 606/PIIS107476132100042X.pdf\n",
            "/content/gdrive/My Drive/Data 606/PIIS2405844021001304.pdf\n",
            "/content/gdrive/My Drive/Data 606/PIIS2405844021002863.pdf\n",
            "/content/gdrive/My Drive/Data 606/PIIS2405844021002723.pdf\n",
            "/content/gdrive/My Drive/Data 606/PIIS2405844021002929.pdf\n",
            "/content/gdrive/My Drive/Data 606/PIIS2405844021003893.pdf\n",
            "/content/gdrive/My Drive/Data 606/PIIS2405844021004564.pdf\n",
            "/content/gdrive/My Drive/Data 606/PIIS2405844021004540.pdf\n",
            "/content/gdrive/My Drive/Data 606/PIIS2405844021004485.pdf\n",
            "/content/gdrive/My Drive/Data 606/PIIS2405844021004412.pdf\n",
            "/content/gdrive/My Drive/Data 606/PIIS2405844021004187.pdf\n",
            "/content/gdrive/My Drive/Data 606/PIIS2405844021004059.pdf\n",
            "/content/gdrive/My Drive/Data 606/PIIS2405844021003947.pdf\n"
          ],
          "name": "stdout"
        }
      ]
    },
    {
      "cell_type": "code",
      "metadata": {
        "colab": {
          "base_uri": "https://localhost:8080/",
          "height": 49,
          "referenced_widgets": [
            "2ee93efdc2d340f79f6f2ce14b3680e4",
            "750fa258746f45a7af5a15763c7718de",
            "6cf07d62a85541b581e162ced81a8a49"
          ]
        },
        "id": "C70X7ynAqJhW",
        "outputId": "20542f3c-20a7-44a8-bcd4-683e7e8cd62c"
      },
      "source": [
        "# Reference:- https://stackoverflow.com/questions/54664021/how-to-use-a-variable-as-the-input-for-a-form-field-in-google-colaboratory\n",
        "titleList=[fileContent[keys]['Title'] for keys in fileContent.keys() ]\n",
        "Title_Option = widgets.Dropdown(options=titleList, value=titleList[0])\n",
        "Title_Option"
      ],
      "execution_count": null,
      "outputs": [
        {
          "output_type": "display_data",
          "data": {
            "application/vnd.jupyter.widget-view+json": {
              "model_id": "2ee93efdc2d340f79f6f2ce14b3680e4",
              "version_minor": 0,
              "version_major": 2
            },
            "text/plain": [
              "Dropdown(options=('Low uptake of COVID-19 prevention behaviours and high socioeconomic impact of lockdown meas…"
            ]
          },
          "metadata": {
            "tags": []
          }
        }
      ]
    },
    {
      "cell_type": "code",
      "metadata": {
        "colab": {
          "base_uri": "https://localhost:8080/",
          "height": 35
        },
        "id": "b8ZEKfSAcIYS",
        "outputId": "712fbf2b-4293-465b-9b0d-a56a641465f0"
      },
      "source": [
        "Title_Option.value"
      ],
      "execution_count": null,
      "outputs": [
        {
          "output_type": "execute_result",
          "data": {
            "application/vnd.google.colaboratory.intrinsic+json": {
              "type": "string"
            },
            "text/plain": [
              "'Low uptake of COVID-19 prevention behaviours and high socioeconomic impact of lockdown measures in South Asia: evidence from a large-scale multi-country surveillance programme'"
            ]
          },
          "metadata": {
            "tags": []
          },
          "execution_count": 5
        }
      ]
    },
    {
      "cell_type": "code",
      "metadata": {
        "id": "fV3SgZveHd2Z"
      },
      "source": [
        "def remove_URL(text):\n",
        "    url_pattern = re.compile(r'https?://\\S+')\n",
        "    return url_pattern.sub(r'', text)"
      ],
      "execution_count": null,
      "outputs": []
    },
    {
      "cell_type": "code",
      "metadata": {
        "id": "GzABdzn5IJBr"
      },
      "source": [
        "punct =[]\n",
        "punct += list(string.punctuation)\n",
        "punct += '’'\n",
        "punct.remove(\"'\")\n",
        "punct.remove(\".\")\n",
        "def remove_punctuations(text):\n",
        "  #text= re.sub(re.compile('<.*?>'),'',text)\n",
        "  for punctuation in punct:\n",
        "         text = text.replace(punctuation, ' ')\n",
        "  return text"
      ],
      "execution_count": null,
      "outputs": []
    },
    {
      "cell_type": "code",
      "metadata": {
        "id": "CSAZpDGOOH7C"
      },
      "source": [
        "stop_words= stopwords.words('english')\n",
        "# Add all the required words to the stop-words corpus\n",
        "stop_words.extend(['from', 'mr', 'said','subject', 're', 'edu', 'use', 'not', 'would', 'say', 'could', '_', 'be', 'know', 'good', 'go', 'get', 'do', 'done',\n",
        "  'try', 'many', 'applause', 'u','000', 'one', 'year', 'some', 'nice', 'thank', 'think', 'see', 'rather', 'easy', 'easily', 'lot', 'lack', 'l ','2',\n",
        "  'make', 'want', 'seem', 'run', 'need', 'even', 'right', 'line', 'even', 'also', 'may', 'take', 'come', 'title','abstract','preprint','biorxiv','al','et.',\n",
        "  'author','copyright','holder','https','license','et','al.','may','also','medrxiv','granted','reuse','rights','used','reserved','peer','holder','figure','fig','table','http','j','doi',\n",
        "  'jo','ur','na','l','p','ro', 'Published', 'Elsevier', 'Ltd'])\n",
        "# Remove stop-words\n",
        "def remove_stopwords(text):\n",
        "    return \" \".join([word for word in str(text).split() if word not in stop_words])"
      ],
      "execution_count": null,
      "outputs": []
    },
    {
      "cell_type": "code",
      "metadata": {
        "id": "ySsEiSOmK583"
      },
      "source": [
        "def removing_digits_except_19(text):\n",
        "  l=[]\n",
        "  tokenized_text=word_tokenize(text)\n",
        "  for item in tokenized_text:\n",
        "    #print(type(item))\n",
        "    if item == '19' or item == '2019':\n",
        "      l.append(item)\n",
        "    elif not item.isdigit():\n",
        "      l.append(item)\n",
        "  return ' '.join(l)\n"
      ],
      "execution_count": null,
      "outputs": []
    },
    {
      "cell_type": "code",
      "metadata": {
        "id": "TogF_LstPxhe"
      },
      "source": [
        "def removing_short_word(text):\n",
        "  long_words=[]\n",
        "  for i in word_tokenize(text):\n",
        "      #print(i)\n",
        "      if len(i)>=3 or i=='.':                  #removing short word\n",
        "          long_words.append(i)   \n",
        "  return(\" \".join(long_words).strip())"
      ],
      "execution_count": null,
      "outputs": []
    },
    {
      "cell_type": "code",
      "metadata": {
        "id": "p4VPJ0yoOpnr"
      },
      "source": [
        "def clean_text(text):\n",
        "    print('Converting to lower case...')\n",
        "    text=text.lower()\n",
        "    #print(text)\n",
        "    print('Removing /n characters...')\n",
        "    text=text.replace('\\n', ' ')\n",
        "    #print(text)\n",
        "    print('Removing urls...')\n",
        "    text=remove_URL(text)\n",
        "    #print(text)\n",
        "    print('Removing punctuations...')\n",
        "    text= remove_punctuations(text)\n",
        "    #print(text)\n",
        "    print(\"Removing digits....\")\n",
        "    text=removing_digits_except_19(text)\n",
        "    print(\"Removing non Alpha-Numeric Characters\")\n",
        "    text=re.sub('[^A-Za-z0-9.]+',' ',text)\n",
        "    #print(text)\n",
        "    print('Removing the stopwords...')\n",
        "    text=remove_stopwords(text)\n",
        "    print('Removing Short words...')\n",
        "    text=removing_short_word(text)\n",
        "    #print(text)\n",
        "\n",
        "    #print(text)\n",
        "    return text\n"
      ],
      "execution_count": null,
      "outputs": []
    },
    {
      "cell_type": "code",
      "metadata": {
        "colab": {
          "base_uri": "https://localhost:8080/"
        },
        "id": "1wXg19InupbL",
        "outputId": "c27d9a98-5b23-4e7b-bce0-9ccaeb2705d5"
      },
      "source": [
        "#Reference:- https://stackoverflow.com/questions/15210148/get-parents-keys-from-nested-dictionary\n",
        "def find_key(d, value):\n",
        "    for k,v in d.items():\n",
        "        if isinstance(v, dict):\n",
        "            p = find_key(v, value)\n",
        "            if p:\n",
        "                return [k] + p\n",
        "        elif v == value:\n",
        "            return [k]\n",
        "\n",
        "key_to_text=find_key(fileContent,Title_Option.value)[0]\n",
        "original_text= fileContent[key_to_text]['Content']\n",
        "\n",
        "cleaned_text=clean_text(original_text)"
      ],
      "execution_count": null,
      "outputs": [
        {
          "output_type": "stream",
          "text": [
            "Converting to lower case...\n",
            "Removing /n characters...\n",
            "Removing urls...\n",
            "Removing punctuations...\n",
            "Removing digits....\n",
            "Removing non Alpha-Numeric Characters\n",
            "Removing the stopwords...\n",
            "Removing Short words...\n"
          ],
          "name": "stdout"
        }
      ]
    },
    {
      "cell_type": "code",
      "metadata": {
        "colab": {
          "base_uri": "https://localhost:8080/",
          "height": 1000
        },
        "id": "bWjkg04RNjjV",
        "outputId": "3966bc36-307c-450d-b2c1-60e6a56d34f9"
      },
      "source": [
        "cleaned_text"
      ],
      "execution_count": null,
      "outputs": [
        {
          "output_type": "execute_result",
          "data": {
            "application/vnd.google.colaboratory.intrinsic+json": {
              "type": "string"
            },
            "text/plain": [
              "'low uptake covid prevention behaviours high socioeconomic impact lockdown measures south asia evidence large scale multi country surveillance programme journal pre proof low uptake covid prevention behaviours high socioeconomic impact lockdown measures south asia evidence large scale multi country surveillance programme dian kusuma rajendra pradeepa khadija khawaja mehedi hasan samreen siddiqui sara mahmood syed mohsin ali shah chamini silva laksara silva manoja gamage menka loomba vindya rajakaruna abu hanif rajan babu kamalesh balachandran kumarendran marie loh archa misra asma tassawar akansha tyagi swati waghdhare saira burney sajjad ahmad viswanathan mohan malabika sarker ian goon anuradhani kasturiratne jaspal kooner prasad katulanda sujeet jha ranjit mohan anjana malay mridha franco sassi john chambers behalf nihr global health research unit diabetes cardiovascular disease south asia pii s2352 reference ssmph appear ssm population health received date november revised date january accepted date february please cite article kusuma pradeepa khawaja k.i hasan siddiqui mahmood ali shah s.m . silva c.k silva gamage loomba rajakaruna v.p hanif kamalesh r.b . kumarendran loh misra tassawar tyagi waghdhare burney ahmad mohan sarker goon i.y kasturiratne kooner j.s katulanda jha anjana r.m . mridha m.k sassi chambers j.c behalf nihr global health research unit diabetes cardiovascular disease south asia low uptake covid prevention behaviours high socioeconomic impact lockdown measures south asia evidence large scale multi country surveillance programme ssm population health j.ssmph.2021.100751 . pdf file article undergone enhancements acceptance addition cover page metadata formatting readability yet definitive version record . version undergo additional copyediting typesetting review published final form providing version give early visibility article . please note production process errors discovered affect content legal disclaimers apply journal pertain . published elsevier ltd. low uptake covid prevention behaviours high socioeconomic impact lockdown measures south asia evidence large scale multi country surveillance programme first name last name affiliation conception design data acquisition analysis interpretation drafted work revised work approved agreed dian kusuma imperial college business school rajendra pradeepa madras diabetes research foundation chennai india khadija khawaja services institute medical sciences mehedi hasan brac james grant school public health brac university samreen siddiqui max healthcare sara mahmood services institute medical sciences syed mohsin ali shah punjab institute cardiology chamini silva faculty medicine university kelaniya laksara silva faculty medicine university colombo manoja gamage faculty medicine university colombo menka loomba max healthcare vindya rajakaruna faculty medicine university kelaniya abu hanif brac james grant school public health brac university rajan babu kamalesh madras diabetes research foundation chennai india balachandran kumarendran faculty medicine university jaffna marie loh lee kong chian school medicine imperial college london archa misra max healthcare asma tassawar punjab institute cardiology akansha tyagi max healthcare swati waghdhare max healthcare saira burney services institute medical sciences sajjad ahmad punjab institute cardiology viswanathan mohan madras diabetes research foundation chennai india malabika sarker brac james grant school public health brac university ian goon school public health imperial college london anuradhani kasturiratne faculty medicine university kelaniya jaspal kooner nhli imperial college london prasad katulanda faculty medicine university colombo sujeet jha max healthcare ranjit mohan anjana madras diabetes research foundation chennai india malay mridha brac james grant school public health brac university franco sassi imperial college business school john chambers lee kong chian school medicine imperial college london criteria substantial contributions conception design work acquisition analysis interpretation data work criteria drafting work revising critically important intellectual content criteria final approval version published criteria agreement accountable aspects work ensuring questions related accuracy integrity part work appropriately investigated resolved . icmje criteria please check apply page low uptake covid prevention behaviours high socioeconomic impact lockdown measures south asia evidence large scale multi country surveillance programme dian kusuma rajendra pradeepa khadija khawaja mehedi hasan samreen siddiqui sara mahmood syed mohsin ali shah chamini silva laksara silva manoja gamage menka loomba vindya rajakaruna abu hanif rajan babu kamalesh balachandran kumarendran marie loh archa misra asma tassawar akansha tyagi swati waghdhare saira burney sajjad ahmad viswanathan mohan malabika sarker ian goon anuradhani kasturiratne jaspal kooner prasad katulanda sujeet jha ranjit mohan anjana malay mridha franco sassi john chambers behalf nihr global health research unit diabetes cardiovascular disease south asia centre health economics policy innovation imperial college business school madras diabetes research foundation chennai india services institute medical sciences lahore pakistan brac james grant school public health brac university dhaka bangladesh max healthcare new delhi india punjab institute cardiology lahore pakistan faculty medicine university kelaniya ragama sri lanka faculty medicine university colombo colombo sri lanka faculty medicine university jaffna jaffna sri lanka lee kong chian school medicine nanyang technological university singapore singapore school public health imperial college london london national heart lung institute imperial college london london correspondence john chambers department epidemiology biostatistics school public health imperial college london london 1pg john.chambers ic.ac.uk acknowledgements research funded national institute health research nihr using aid government support global health research wellcome trust . views expressed publication necessarily nihr department health social care . conflict interest none contributions jcc rma kik mkm conceived study . rbk aamh smas atr ckds vpr lds iyg collected cleaned data . jcc conducted data analyses . jcc mkm drafted jsk provided inputs manuscript . authors approved final version manuscript . nihr global health research unit diabetes cardiovascular disease anjana mohan diabetes research foundation chennai india john chambers imperial college london sophie day imperial college london gary frost imperial college london sujeet jha max healthcare delhi india prasad katulanda university colombo sri lanka khadija khawaja services institute medical sciences lahore pakistan jaspal kooner imperial college london marie loh imperial college london marisa miraldo imperial college london malay mridha brac university dhaka bangladesh nicholas oliver imperial college london malibika sarker brac university dhaka bangladesh jonathan valabhji imperial college london . low uptake covid prevention behaviours high socioeconomic impact lockdown measures south asia evidence large scale multi country surveillance programme background . south asia become major epicentre covid pandemic . understanding south asians awareness attitudes experiences early measures prevention covid key improving effectiveness mitigating social economic impacts pandemic responses critical time region . methods . assessed knowledge behaviours health socio economic circumstances adult men women locations across four south asian countries . data collected national lockdowns implemented march july compared data collected prior pandemic part ongoing prospective surveillance initiative . results . participants female mean age 45.1 years . almost half chronic disease including diabetes hypertension obesity . knowledge primary covid symptoms transmission routes high access hygiene personal protection resources low running water hand sanitisers paper tissues . key preventive measures widely adopted . knowledge access uptake covid prevention measures low amongst people disadvantaged socio economic groups . fifteen percent people receiving treatment chronic diseases reported loss access long term medications reported symptoms suggestive anxiety depression . prevalence unemployment rose 9.3 39.4 0.001 household income fell 0.001 lockdown . younger people less affluent socio economic groups severely impacted . sedentary time increased inadequate fruit vegetable intake increased 0.001 tobacco alcohol consumption dropped respectively 0.001 lockdown . conclusions . results identified important knowledge access uptake barriers prevention covid south asia demonstrated major adverse impacts pandemic chronic disease treatment mental health health related behaviours employment household finances . found important sociodemographic differences impact suggesting widening existing inequalities . findings underscore immediate large scale action close gaps knowledge access essential resources prevention along measures safeguard economic production mitigate socio economic impacts young poor . background south asia densely populated region world 1.9 billion people global population south asians living bangladesh india pakistan sri lanka . common residents lower middle income countries lmics people south asia face multiple challenges including high rates communicable non communicable disease fragile health education systems food financial insecurity limited formal economic social support . together characteristics anticipated south asian countries vulnerable major health societal challenges covid . first case covid south asia identified january shortly covid declared pandemic . response bangladesh india pakistan sri lanka implemented range highly restrictive national control measures reduce spread covid 19. included closures schools non essential workplaces public transport bans education campaigns individual level behavioural interventions isolation symptomatic individuals contact tracing . however since 11.8 million cases detected deaths 27th january 2021. rate new infections rapidly accelerating india mid september still second highest numbers covid cases globally indicating control measures less effective early stages pandemic settings . however test positivity rate rate increase new cases substantially lowered mid september january furthermore increasing evidence national lockdowns adverse effects physical mental health children education behaviours relevant chronic disease well severe social financial consequences . urgent understand control measures strengthened south asia reduce high rates ongoing transmission mitigate unintended adverse consequences . interviewed people participating long term south asian health surveillance study restrictive national control measures place . measured knowledge covid adoption preventive practices impact covid physical mental health health related behaviours non communicable disease care social circumstances economic well . ultimate goal study inform design implementation covid prevention control programs south asia . methods network health surveillance sites evaluate impact covid people living five study regions bangladesh south india north india pakistan sri lanka . bangladesh selected rural urban surveillance sites based national administrative data . rural sites district randomly selected eight major administrative divisions sub district randomly chosen . community clinics within sub district randomly selected ward community clinics located rural surveillance sites . urban sites urban dispensary community clinic randomly selected city corporations mahalla neighbourhood urban dispensary community clinic located urban surveillance site . eligible residents surveillance site invited participate . procedures similar south india chennai north india delhi pakistan punjab province sri lanka . details published elsewhere . surveillance sites include south asian men women aged years comprehensive information baseline health collected immediately prior covid pandemic november march . supplemented baseline data telephone interview focussed covid completed surveillance study participants national lockdowns implemented march july 2020. study approved irbs country consent obtained participants round data collection . study settings recruitment recruitment health surveillance study took place surveillance sites range per study region urban supplementary . governmental census data available household listings together house house visits research teams local primary care workers identify enumerate resident population . resident adults age years invited part exclusion criteria included current pregnancy serious illness expected reduce life expectancy less months . worked closely community senior members e.g . teachers employers religious leaders support facilitate engagement study . explanations project purpose provided writing using videos relevant south asian languages supported bilingual translators . recruitment started november march completed evaluation people bangladesh north india south india pakistan sri lanka . baseline evaluation interviewer administered health lifestyle questionnaire collect information behavioural risk factors smoking alcohol physical activity consumption fruits vegetables personal family medical history medications socio economic status . physical measurements included anthropometry height weight waist hip circumference bio impedance body fat composition blood pressure omron digital device cardiac evaluation lead ecg identify arrhythmia left ventricular hypertrophy previous myocardial infarction retinal photography assessment retinal disease including hypertensive diabetic retinopathy . respiratory evaluation spirometry assess smoking environment related lung injury . fasting glucose cholesterol measured point care tests . aliquots blood urine stored future molecular analyses . equipment protocols training standardised across sites . follow covid questionnaire part integrated effort ordinated wellcome trust developed questionnaire aimed assessing prevalence knowledge uptake behaviours relevant covid impact covid access healthcare behaviours linked non communicable disease risk social interactions financial circumstances . questionnaire available full study website www.ghru southasia.org included new covid questions e.g . knowledge practice symptoms existing questions surveillance baseline evaluation e.g . health related behaviours . implemented questionnaire telephone national lockdown period using bespoke data capture tool based kobotoolbox open source data collection software . study instruments included validated tools existed example gad phq schema . built question sets analogous conditions e.g . flu survey . question set developed jointly expert working group sponsored wellcome trust deployed across multiple cohorts goal creating interoperable datasets . carried pilot study test acceptability validity questionnaire . average duration telephonic interview minutes . study team attempted contact participants surveillance study . training questionnaire administration quality control data collection ordinated centrally . statistical analysis descriptive statistics presented mean continuous categorical variables respectively . participants clustered geographically surveillance sites . account heterogeneity outcomes sites due unobserved contextual factors multilevel modelling regression approach random effects intercept study site level quantify relationships outcomes potential predictors age gender education prior income prior chronic condition . analyses baseline pre pandemic follow pandemic data e.g . behaviours linked chronic disease risk social financial circumstances available examined changes two time points . conducted analyses stata . analysed three groups dependent variables covid burden knowledge preventive behaviours covid impact covid chronic disease behaviours linked chronic disease risk iii impact covid social financial circumstances . prevalence covid estimated reported symptoms fever cough knowledge tested disease symptoms transmission mechanism preventive behaviours included washing hands wearing masks following social distancing . impact chronic disease included running routine medications symptoms psychosocial distress e.g . anxiety depression risk factors chronic conditions e.g . alcohol drinking tobacco physical inactivity inadequate diet . current drinking whether person drink alcohol tobacco whether person currently smoke cigarettes cigars pipes snuff chewing tobacco betel inadequate diet whether person total serving fruit vegetable less servings per day physical inactivity much time person usually spends sitting reclining typical day . finally impact social financial circumstances included household income employment working hours . results study population baseline characteristics participants surveillance study summarised supplementary people successfully completed covid questionnaire response rate little evidence responder bias supplementary . participants female mean age years living bangladesh north india south india pakistan sri lanka . almost half participants least chronic disease including diabetes hypertension obesity . participants south india sri lanka older higher prevalence diabetes compared settings 0.001 . cigarette smoking highest whilst education indicators socio economic status lowest bangladesh pakistan 0.001 . lockdown control measures country survey period included major restrictions movement outside house closure schools non essential workplaces cancellation public religious events supplementary . covid burden knowledge preventive behaviours 1.0 people reported combination fever cough study period 4.6 reported recognised covid symptoms supplementary . testing rates consistently low 0.9 people reporting swab test covid including people suggestive symptoms . people known chronic disease higher levels education likely report suggestive symptoms adjustment age gender education income status 0.01 supplementary . awareness covid symptoms pathways transmission moderate high primary components supplementary . fever cough recognised covid symptoms 90.1 79.5 people respectively . however people recognised sore throat breathlessness tiredness myalgia gastrointestinal disturbance potential features covid 19. proportions people unaware covid transmission facilitated contaminated surfaces touching face high respectively supplementary . weaker knowledge symptoms transmission common women strongly associated lower levels education lower income status increasing age supplementary odds ratio weaker knowledge 2.2 1.9 2.4 age years 2.7 2.4 3.3 formal education compared youngest age group highest education group respectively 0.001 . knowledge personal preventive measures recommended reduce transmission covid high settings metrics supplementary . however implementation measures daily life moderate representing environmental behavioural factors supplementary . approximately people access hand sanitisers tissues access gloves . almost participants access clean running water home access room self isolation people known suspected covid 19. addition people reported wearing masks following social distancing outside went outside non essential reasons people continued join meetings people across different households . poorer access implementation preventive measures 2.9 2.6 3.1 fold common amongst women compared men common amongst people lower educational financial backgrounds 0.001 supplementary . impact covid chronic disease access healthcare including consultations diagnostic tests medications compromised settings implementation control measures . approximately people taking regular medication amongst reported running supplies . drugs diabetes hypertension commonly affected respectively . restrictions movement financial pressures identified primary reasons impaired access healthcare medications supplementary . impact access medication greatest young 1.62 1.17 2.64 age years age years 0.001 lower levels income 1.41 1.14 1.84 bottom top quintile income 0.001 education 1.48 1.12 2.19 years education 0.001 1.54 1.12 1.95 higher amongst chronic disease supplementary . covid impacted behaviour patterns relevant chronic disease . physical activity patterns deteriorated pandemic 3.8 hours 5.0 hours increase sedentary time 77.2 increase proportion people reporting inadequate fruit vegetable intake 0.001 . respondents reported weight loss study regions average 62.5 62.1 0.001 . deterioration diet physical activity marked men supplementary . lower levels education associated greater negative impact pandemic physical activity lesser effect diet 0.001 . self reported alcohol intake fell 11.0 2.2 smoking rates 24.4 14.5 compared pre pandemic levels 0.001 . alcohol intake fell tobacco fell among males females respectively supplementary . continued tobacco alcohol consumption five fold higher men women continued alcohol consumption 1.7 fold 1.17 2.24 common affluent quintile compared lowest quintile income 0.001 . reduction cigarette smoking maintained long term might reduce future risk cvd population lung cancer supplementary . almost participants reported symptoms consistent anxiety depression . prevalence anxiety depression higher people aged years amongst people chronic disease people lower education income 0.05 supplementary . impact covid social financial circumstances impact covid control measures employment incomes high . compared pre pandemic proportion respondents unemployed increased 3.5 fold 9.3 39.4 0.001 . time work decreased 41.1 29.2 hours household monthly income fell usd 240.0 114.4 0.001 . negative economic impact greatest among younger participants amongst people lower income educational status baseline supplementary . people formal education 1.7 fold 1.53 1.97 likely report loss employment 3.2 fold 2.82 3.63 likely report fall income compared well educated 0.001 . 3.2 participants relocate lockdown travelled miles new location supplementary . social financial support heterogeneous across regions supplementary . people sri lanka reported receiving financial support . support supply medications increased whilst delivery grocery shopping almost tripled access subsidized food increased fold . sri lanka lowest proportion people reporting anxiety depression . settings fewer people reported receiving direct support state community sources supplementary . discussion assessed knowledge behaviours health socio economic circumstances men women surveillance sites four south asian countries national lockdowns implemented covid march july 2020. findings provide comprehensive assessment impact covid pandemic response measures health wellbeing south asian communities . found south asians poor access essential resources personal protection uptake recommended preventive measures low especially among people modest educational socio economic backgrounds . found major negative impacts covid pandemic response measures chronic diseases mental health household finances . access healthcare chronic diseases compromised including consultations diagnostic tests medications . employment income working hours fell substantially settings accompanied high prevalence anxiety depression . younger people people lower socio economic groups impacted . although tobacco alcohol consumption fell physical activity levels fruit vegetable intake . findings identify factors likely fuelled continued progression covid south asia . highlight unanticipated inequitable unsustainable impacts covid pandemic responses chronic disease management mental health socio economic circumstances . findings inform design future policies aimed preventing spread covid south asia mitigating adverse socio economic impacts especially vulnerable population groups . covid burden knowledge preventive behaviours prevalence covid symptoms study population low . results consistent assessment flu like symptoms amongst healthcare workers india period contrast findings serology studies delhi urban south asian settings indicate high proportion populations tested infected covid lockdown . observations suggest high proportion people south asia infected asymptomatically keeping younger age distribution south asian populations compared european north american countries . high proportion individuals asymptomatic covid represents additional barrier identification isolation cases underscoring importance molecular diagnostic assays . note covid testing low assessment period . although testing capacity subsequently increased remain wide variations availability cost uptake . found high knowledge typical covid symptoms transmission routes positive attitudes towards preventive measures high adoption hand washing soap water consistent previous reports . found incomplete knowledge atypical covid symptoms transmission routes important failures uptake protective measures particular avoiding interactions households non essential home activities . knowledge covid symptoms preventive measures high participants lower among people disadvantaged socio economic groups . consistent health communication strategies effective improve knowledge . however find uptake preventative measures low suggesting communication strategies less successful achieving behaviour change . found uptake protective measures inversely related education socio economic status poorer amongst women older people . high proportion respondents reported households access running water suitable spaces self isolation . observations contribute explaining continued sustained spread covid epidemic south asian communities highlight population groups benefit awareness raising measures improved access personal protection resources . covid non communicable disease healthy behaviours south asia almost half participants reported least non communicable disease commonly diabetes hypertension conditions known increase morbidity mortality covid . keeping covid symptoms common amongst south asians reporting chronic condition . well documented high burden diabetes hypertension south asians contributing high impact covid population . study design includes assessment key social health metrics prior pandemic enables quantify impact covid healthcare different population sub groups . found adverse impacts routine clinical care people chronic disease reflecting combination reduced mobility impaired supply services weakened financial circumstances avoidance healthcare settings . impact greatest amongst vulnerable society particular lower socio economic backgrounds . results expand evidence base impacts covid access healthcare south asia making strong case measures protect routine health services increase digital platforms provide medication support . baseline follow data enable accurate assessment impact covid pandemic health behaviours . document modest increase inadequate fruit vegetable consumption substantial increase physical inactivity . previous reports shown increased carbohydrate consumption snacking reduced physical activity amongst indians type diabetes pandemic . however steep declines smoking alcohol consumption settings . india highest decline tobacco might attributed policy ban sales tobacco products country went lockdown april . sustained might translate substantial reduction risk chronic diseases cardiovascular disease lung cancer population . understanding drove drop tobacco alcohol consumption support development new policies maintain improvements future insights needed prevent deterioration diet physical activity patterns pandemic response measures last promote return healthy lifestyles measures released . identified high prevalence anxiety depression symptoms study period highest bangladesh . absence baseline data participants potential limitation claim impact note prevalence anxiety depression reported south asia . addition studies using gad phq tools report south asians raised test scores . observations support view levels anxiety depression high control period . studies countries shown covid lockdown measures linked impacted mental health population . subgroup symptoms psychosocial distress common women amongst people lower income education . emphasises potential negative impact covid pandemic mental health south asia region highest suicide rates globally . impact covid social financial circumstances found evidence high negative impact covid pandemic response measures social economic circumstances south asia . documented substantial increase unemployment decreased work hours major reduction household income . adverse effects financial circumstances greatest younger people less educated backgrounds . governments throughout world identified risks economic wellbeing settings implemented mitigation measures . bangladesh opened garment industry month lockdown sri lanka implemented national financial support system assistance food supplies india provided direct cash food grains protect poor people lockdown impact due covid 19. however measures insufficient mitigate tremendous impact covid control measures economic wellbeing . findings provide evidence scale impact south asian communities strong case robust social organisational fiscal measures avoid long lasting negative effects livelihoods south asian people . whilst impacts covid pandemic control measures largely shared across south asian countries evaluated differences . smoking alcohol consumption declined settings india highest decline likely reflecting ban sales alcohol tobacco products country went lockdown april . rise unemployment loss income lowest pakistan perhaps reflecting lighter control measures economic activities . impact covid treatment chronic disease lowest pakistan . baseline fruit vegetable intake poor india change materially pandemic perhaps reflecting provision nutritional support vulnerable individuals . elsewhere fruit vegetable intakes favourable baseline deteriorated . financial social support measures strongest sri lanka coinciding favourable mental health less marked drop income access chronic disease medication compared india bangladesh . future surveillance study participants provide insights changes nutrition economics mental health healthcare access impact future chronic disease outcomes . strengths limitations assessed impact covid behaviours health wellbeing large representative sample south asians sites across four countries . brings precision generalisability findings . benefited existence comprehensive data participants collected onset pandemic enabling accurately assess people changing situation . internationally validated questionnaires ensure comparability studies . although recognise telephone surveys introduce bias recruitment characteristics responders non responders similar . telephone surveys lead response bias however reliable baseline data collected pre pandemic provided opportunities validation several instances . study carried height implementation control measures . restrictions varied study interval eased subsequently . current cross sectional study enable understanding secular changes longitudinal relationships control measures participant outcomes . however results provide objective evidence impact control measures population inform design implementation local national restrictions covid emerging viral pandemics . conclusions study provides comprehensive assessment south asian communities covid pandemic . found low uptake recommended preventive measures among people lower educational socio economic backgrounds women older age groups poor access resources needed personal protection . found negative impacts pandemic healthcare chronic diseases diet physical activity employment personal finances mental health . impacts unequal younger people people lower socio economic backgrounds impacted . results contribute explaining continued progression covid south asia provide basis development effective equitable sustainable public health interventions covid region . tables characteristics study participants prior covid pandemic figures impact covid control measures access healthcare chronic disease . impact covid control measures behaviours relevant chronic disease . measures mental health covid pandemic . impact covid control measures employment financial wellbeing . conflict interest none references laxminarayan kakkar horby malavige basnyat . . emerging emerging infectious disease threats south asia status vulnerability preparedness outlook . bmj j1447 . misra tandon ebrahim . . diabetes cardiovascular disease chronic kidney disease south asia current status future directions . bmj j1420 . reuters sri lanka confirms first case coronavirus health official . january . online coronavirus health official iduskbn1zq1wf agoramoorthy . india fights hard neutralize spread covid 19. infect control hosp epidemiol . anwar nasrullah hosen . covid bangladesh challenges address . front public health . rossi socci talevi . . covid pandemic lockdown measures impact mental health among general population italy . frontiers psychiatry . alvi gupta . learning times lockdown covid affecting education food security india . food secur . pieh budimir probst . effect age gender income work physical activity mental health coronavirus disease covid lockdown austria . journal psychosomatic research . verma rajput verma balania jangra . . impact lockdown covid glycemic control patients type diabetes mellitus . diabetes metabolic syndrome clinical research reviews . 10. ceballos kannan kramer . . impacts national lockdown smallholder farmers income food security empirical evidence two states india . world development . 11. song gupta goon . . data resource profile understanding patterns determinants health south asians south asia biobank . . 12. silva herbst galobardes . lmic working group . lmic covid core questionnaire . 13. jha soni siddiqui batra . . prevalence flu like symptoms covid healthcare workers india . assoc physicians india . 14. mohfw . sero prevalence study conducted national center disease control ncdc mohfw delhi june . . accessed jan . 15. icddrb . . iedcr partners share insights prevalence seroprevalence genomic epidemiology covid dhaka city . links press releases task view accessed jan . 16. zaidi rizwan riaz . seroprevalence anti sars cov antibodies residents karachi challenges acquiring herd immunity covid 19. public health . 17. dkhar quansar saleem khan . knowledge attitude practices related covid pandemic among social media users india . indian public health supplement s205 s210 . 18. afzal khan qureshi . . community based assessment knowledge attitude practices risk factors regarding covid among pakistanis residents recent outbreak cross sectional survey . community health . 19. gambhir dhaliwal aggarwal anand anand bhangu . covid survey knowledge awareness hygiene practices among dental health professionals indian scenario . rocz panstw zakl hig . 20. basu . non communicable disease management vulnerable patients covid 19. indian med ethics . 21. ofori asenso ogundipe agyeman . . cancer associated severe disease covid patients systematic review meta analysis . ecancermedicalscience . 22. anjana deepa pradeepa . . prevalence diabetes prediabetes states india results icmr indiab population based cross sectional study . lancet diabetes endocrinology . 23. chambers loh lehne . . epigenome wide association dna methylation markers peripheral blood indian asians europeans incident type diabetes nested case control study . lancet diabetes endocrinology . 24. garg basu rustagi . primary health care facility preparedness outpatient service provision covid pandemic india cross sectional study . jmir public heal surveill e19927 . 25. deshmukh naik zade . . impact pandemic cancer care lessons learnt rural cancer center first months . surg oncol . 26. khader jabeen namoju . cross sectional study reveals severe disruption glycemic control people diabetes lockdown india . diabetes metab syndr . 27. khare jindal . observational study effect lock due covid glycemic control patients diabetes experience central india . diabetes metab syndr . 28. nachimuthu vijayalakshmi sudha viswanathan . coping diabetes covid lockdown india results online pilot survey . diabetes metab syndr . 29. joshi atal fatima balakrishnan sharma joshi . diabetes care covid lockdown tertiary care centre india . diabetes res clin pract . 30. ghosh arora gupta anoop misra . effects nationwide lockdown covid epidemic lifestyle medical issues patients type diabetes north india . diabetes metab syndr . 31. ahluwalia myers cohen . covid pandemic opportunity tobacco cessation . lancet public health e577 . 32. world health organization . depression common mental disorders global health estimates . 2017.2 eng.pdf accessed jan . 33. hanwella ekanayake silva va. validity reliability sinhala translation patient health questionnaire phq phq screener . depress res treat . 34. pan kok eikelenboom . . mental health impact covid pandemic people without depressive anxiety obsessive compulsive disorders longitudinal study three dutch case control cohorts . lancet psychiatry . 35. connor wetherall cleare . . mental health well covid pandemic longitudinal analyses adults covid mental health wellbeing study . british journal psychiatry . 36. jordans kaufman brenman . . suicide south asia scoping review . bmc psychiatry . main tables figures characteristics study participants prior covid pandemic south asia impact covid lockdown measures chronic diseases south asia impact covid lockdown measures behaviours relevant chronic diseases south asia impact covid lockdown measures mental health south asia impact covid lockdown measures social financial circumstances south asia supplementary tables figures st1 surveillance sites region st2 characteristics surveilance participants panel responder bias panel st3 covid lockdown control measures region st4 covid burden knowledge preventive behaviours st5 covid related lockdown impacts socioeconomic health status south asia st6 covid access medications st7 impact covid lockdown measures behavior relevant chronic disease gender st8 benefit calculation smoking cessation st9 covid social financial support fig1 forest plot responder bias characteristics study participants prior covid pandemic mean mean mean mean mean mean basic characteristics female 60.8 52.5 60.9 59.2 64.9 68.8 age 45.1 14.1 42.8 13.6 41.6 13.6 48.9 12.9 42.6 12.6 49.1 14.5 household income usd 240.0 203.9 219.2 188.7 307.9 247.9 234.0 179.4 176.6 184.7 235.3 187.7 education 7.3 4.7 5.7 4.7 7.1 4.6 7.1 3.9 3.7 4.9 10.4 2.8 employment government employee 3.6 1.8 1.4 2.4 8.5 6.2 non government employee 16.3 6.9 29.0 26.1 6.5 15.4 self employed 25.9 39.4 14.3 33.2 13.7 20.2 non paid 0.2 0.03 0.3 0.4 0.2 0.2 student 2.5 1.8 4.6 0.6 2.4 2.6 homemaker 37.2 45.4 42.9 29.7 60.9 20.8 retired 3.8 2.0 2.5 3.8 1.6 7.2 unemployed able work 7.3 0.8 2.7 3.0 4.6 20.2 unemployed unable work 3.3 1.9 2.3 0.8 1.4 7.2 chronic diseases clinical risk factors least 46.4 36.4 43.1 2019 51.3 54.9 54.6 raised blood pressure 22.6 21.2 21.4 20.8 28.4 23.9 obese 16.3 7.3 16.8 23.5 34.5 16.3 diabetes mellitus 15.8 8.9 12.5 24.8 16.5 20.8 raised cholesterol 10.4 4.3 5.6 6.3 4.3 23.8 cvd 9.2 6.7 8.0 3.1 4.4 16.9 lung 5.0 6.6 4.7 0.5 1.1 6.8 renal 0.6 1.0 0.5 0.5 0.3 0.4 cancer 0.3 0.2 0.5 0.1 0.1 0.5 behavior risk factors current smoking 24.4 50.8 20.9 7.2 8.7 11.8 current drinking 11.0 2.6 19.0 11.2 0.1 17.4 body mass index 25.4 5.7 23.6 5.1 25.5 5.4 27.1 6.6 28.1 6.5 25.6 5.2 systolic mmhg 121.3 19.8 117.4 19.7 116.2 18.0 130.4 20.1 125.3 18.1 123.7 19.6 diastolic mmhg 76.1 12.2 73.4 11.8 73.5 11.1 83.7 12.1 82.2 11.7 75.4 11.4 sri lankatotal bangladesh north india south india pakistan 29.5 20.6 13.2 8.5 28.1 note sample standard deviation usd united states dollar cvd cardiovascular diseases blood pressure mmhg millimeters mercury impact chronic diseases note panels total sample panels total samples respectively . words panel fraction panel panel fraction panel panel fraction panel values lockdown . sample normally medicine sample tried doctor sample tried blood test medicine medicine tried blood test reported failure tried doctor reported failure sri lanka pakistan south india north india bangladesh total sri lanka pakistan south india north india bangladesh total sri lanka pakistan south india north india bangladesh total proportion proportion impact behavior relevant chronic disease note fruit vegetable . currently drinking answered yes currently drinking answered yes question drink alcohol current tobacco answered yes either questions currently smoke tobacco products daily cigarettes cigars pipes currently snuff chewing tobacco betel inadequate diet total serving fruit vegetable less servings per day . time sitting typical day much time person usually spends sitting reclining typical day . values four total comparisons dark blue dark red 0.001 total bangladesh north india south india pakistan sri lanka current drinking total bangladesh north india south india pakistan sri lanka current tobacco total bangladesh north india south india pakistan sri lanka time sitting typical day hour total bangladesh north india south india pakistan sri lanka inadequate diet impact mental health note bangladesh north india south india pakistan sri lanka . values lockdown . income quintile education group years region gender age group years region gender age group years income quintile education group years 28.3 51.9 16.2 20.7 30.4 15.4 28.2 28.5 26.7 31.5 29.1 28.8 23.7 30.1 32.7 26.9 26.7 25.4 36.7 33.2 31.9 21.1 20.5 total female male feeling nervous anxious edge 25.1 34.1 21.7 26.1 33.9 14.9 24.7 25.7 23.2 27.4 26.3 25.5 21.3 26.0 27.8 24.8 23.7 22.9 31.5 27.4 27.1 20.8 18.7 total female male feeling depressed hopeless impact economics note panel light dark yellow proportions unemployment lockdown panel light dark green working hours lockdown panel light dark blue income usd lockdown values three total comparisons light dark yellow green blue 0.001 female male sri lanka pakistan south india north india bangladesh total proportion unemployed light yellow dark yellow work hours light green dark green income usd light blue dark blue supplementary surveilance sites region region number site urban site target interviewed response rate bangladesh 63.20 north india 65.20 south india 45.70 pakistan 43.70 sri lanka 56.30 total 56.60 supplementary characteristics surveilance participants panel responder bias panel crude difference adjusted mean non responder responder lci uci female 62.6 65.20 60.80 0.001 0.84 0.81 0.87 0.001 age years 46.0 14.3 46.6 14.5 45.1 14.1 0.001 1.54 1.8 1.28 0.001 age categories yrs old 13.4 13.90 16.70 0.001 1.15 1.10 1.21 0.001 yrs old 46.6 45.90 48.40 1.10 1.06 1.14 0.001 yrs old 40.1 40.20 34.90 0.83 0.80 0.87 0.001 years school years 6.9 4.7 6.4 4.8 7.3 4.7 0.001 0.48 0.40 0.55 0.001 education achieved primary school 52.2 53.50 51.30 0.001 0.82 0.78 0.85 0.001 secondary school 22.6 37.80 39.70 1.19 1.14 1.24 0.001 postgraduate 25.2 8.70 9.00 1.11 1.03 1.19 0.007 marital status never married 6.9 6.40 7.30 0.001 1.04 0.96 1.13 0.37 currently married 84.5 83.40 85.40 1.15 1.09 1.21 0.001 widowed 7.5 8.90 6.40 0.89 0.82 0.96 0.001 separated divorced 1.1 1.30 1.00 0.78 0.66 0.92 0.003 occupation government employee 3.5 3.30 3.60 0.001 1.19 1.08 1.31 0.001 non government employee 15.9 15.30 16.30 1.01 0.96 1.06 0.75 self employed 25.7 25.40 25.90 0.93 0.89 0.98 0.003 non paid 0.2 0.20 0.20 1.02 0.69 1.50 0.91 student 2.2 1.80 2.50 1.26 1.08 1.46 0.003 homemaker 38.1 39.30 37.20 1.03 0.98 1.08 0.27 retired 3.7 3.50 3.80 1.30 1.18 1.44 0.001 unemployed able work 7.2 7.10 7.30 1.07 1.00 1.15 0.06 unemployed unable work 3.7 4.10 3.30 0.93 0.84 1.03 0.15 hypertension history 521.0 22.3 22.60 22.00 0.13 1.11 1.06 1.16 0.001 diabetes history 224.0 15.9 16.40 15.50 0.004 1.13 1.08 1.19 0.001 heart attack history 397.0 2.7 2.80 2.60 0.37 1.01 0.90 1.12 0.93 body mass index 25.4 5.8 25.4 6.0 25.4 5.7 0.64 0.46 0.36 0.56 0.001 waist 85.7 13.0 85.7 13.5 85.6 12.6 0.34 1.05 0.84 1.27 0.001 systolic mmhg 130.9 1961.6 123.5 21.0 121.3 19.9 0.001 0.02 0.35 0.32 0.91 diastolic mmhg 76.6 12.4 77.2 12.7 76.1 12.2 0.001 0.38 0.17 0.59 0.001 heart rate bpm 79.0 13.0 79.4 13.1 78.8 12.2 0.001 0.25 0.03 0.47 0.02 glucose 106.8 40.0 108.0 41.4 105.9 38.9 0.001 0.55 0.17 1.28 0.14 current smoker 430.0 10.5 9.40 11.30 0.001 0.92 0.86 0.98 0.01 drinkalcohol current 418.0 10.5 9.70 11.00 0.001 1.07 1.00 1.14 0.07 previous 143.0 4.1 3.40 4.70 1.15 1.04 1.26 0.004 never 290.0 85.4 86.90 84.30 1.09 1.03 1.16 0.003 fruit intake days week 3.0 2.5 2.99 2.49 3.04 2.48 0.03 0.10 0.06 0.14 0.001 vegetable intake days week 6.0 1.5 5.95 1.55 6.06 1.51 0.001 0.00 0.03 0.03 0.87 total baseline response status supplementary control measures region control measures place bangladesh north india south india pakistan sri lanka date start march march march march mar date ended phased unlock june unlock july unlock august unlock september restrictions containment zones till september . august august phased completed june school closing xtended nationwide domestic restrictions august least august amid rise cases maintaining closure educational institutions . confirmed august educational institutes remain closed past september covid situation improves country extended school closures july first week september past expected reopening date july . maintained closures educational institutes khyber pakhtunkhwa sindh least september despite continued national reopening . began phased reopening schools july following spike cases schools closed july least july . resumed teaching preschool grade grade classes august completing phased national school reopening process . reopened universities august years workplace closing yes rmg factories started gradual opening april 27. extended nationwide domestic restrictions august least august amid rise cases restricting business hours daily closures non essential businesses continue apply designated localities previous colour coded zonal lockdown system . pakistan extended smart lockdowns july localities provinces including punjab khyber pakhtunkwa sindh mandating closure non essential businesses defining standard operating practices essential businesses . lifted complete lockdown punjab province august imposed advance eid adha holiday lockdown rolled back two days earlier scheduled allowing businesses reopen weekdays except recreational facilities including restaurants beauty parlours cinemas . lifted restrictions restaurants non essential tourism related businesses week following august khyber pakhtunkhwa punjab sindh provinces maintained restrictions marriage halls expo centres september . yes cancel public events extended nationwide domestic restrictions august least august amid rise cases maintaining ban large public gatherings . announced new requirements religious congregations khyber pakhtunkhwa punjab sindh festivals permitted condition prior approval respective provincial governments adherence local sops restrictions gatherings extended nationwide domestic restrictions august least august amid rise cases maintaining ban large private gatherings restrictions private gatherings fewer people continue apply designated localities previous colour coded zonal lockdown system . announced august phased approach lifting sports related gatherings part lockdown reopening current first phase fewer people permitted workouts practices nationwide close public transport resumed limited public transport services august capacity reductions social distancing measures place rail services bus services operating dhaka long distance routes . continued reopening public transport since august sops mitigating covid transmission place stay home requirements bangladesh extended nationwide domestic restrictions august least august amid rise cases recommending residents stay home extent possible requirements stay home continue apply designated localities previous colour coded zonal lockdown system . directed citizens stay confined homes smart lockdown notifications locality july . extended complete lockdown balochistan province august august mandating residents stay home recreational places including beaches reopened sindh province august ending lockdown imposed advance eid adha holiday . continued withdrawal stay home measures across various provinces since august reopening . restrictions internal movement yes formalized restrictions internal movement smart lockdown strategy july barring movement outside containment areas yes international travel controls financial support yes low ses yes beneficiaries specific national schemes people poverty cards yes low ses yes low ses yes low ses informal workers nutritional support yes yes yes yes low ses yes low ses informal workers note ses socioeconomic status source oxford covid government response tracker regional report south asia country collaborators extended closures schools colleges coaching institutions july july containment non containment zones . entered unlock phase lockdown rollback august extending nationwide closures schools colleges educational coaching institutions august allowed businesses non containment zones reopen july official recommendations work home staggering working hours essential services continue operational containment zones . entered unlock phase lockdown rollback august permitting businesses reopen non containment zones recreational facilities including cinema halls swimming pools bars assembly halls remain closed nationwide august yoga institutes gymnasiums reopened august . maintained strict perimeter control containment zones july barring movement designated areas . entered unlock phase lockdown rollback august maintaining strict perimeter control containment zones nationwide august movement zones remains prohibited except medical emergencies supply essential goods services . requested state governments lift remaining inter state restrictions movement goods conveyances compliance mandate current unlock lockdown rollback ministry home affairs imposed nightly curfew nationwide july general daytime movements restricted containment zones except operation essential services . entered unlock phase lockdown rollback august extending mandatory stay home requirements containment zones nationwide august except essential activities . extended ban international flights july exception repatriation flights . entered unlock phase lockdown rollback august maintaining ban international air travel passengers nationwide except permitted ministry home affairs including repatriation citizens . announced cancellation social political sports religious entertainment academic cultural events july containment non containment zones entered unlock phase lockdown rollback august extending nationwide prohibition public events including social political entertainment cultural religious functions august . extended ban large public gatherings july restrictions weddings loosened guests funerals guests maintained restrictions private gatherings national directives covid management august including limits marriage related gatherings people funerals people . resumed domestic flights passenger trains july metro rail systems remain closed . entered unlock phase lockdown rollback august extending nationwide closure urban metro rail services august domestic trains local transports continue adhere regional standard operating procedures sops issued ministry health family welfare . supplementary covid burden knowledge preventive behaviours total bangladesh north india south india pakistan sri lanka main covid symptom symptom 4.6 8.3 1.7 4.4 7.3 2.2 fever cough 1.0 1.1 0.4 3.0 1.4 0.1 swab test 0.9 0.2 1.0 2.1 3.0 0.2 knowledge symptom answered fever symptom covid 90.1 87.0 95.0 85.5 91.3 91.9 answered dry cough symptom 79.5 81.4 82.3 80.5 71.9 77.2 answered tiredness symptom 23.2 3.6 30.0 48.2 47.1 20.2 answered muscle joint pain symptom 22.9 11.6 26.0 28.4 41.0 24.8 answered shortness breath symptom 49.5 40.4 56.3 59.3 53.0 48.6 answered runny blocked nose symptom 43.5 42.8 32.8 32.5 40.7 57.5 answered sore throat symptom 49.4 53.5 40.4 44.7 29.5 59.3 answered loss smell symptom 5.4 0.1 8.6 11.0 5.5 6.0 answered loss appetite symptom 2.1 0.5 2.0 3.4 2.9 3.0 answered productive cough symptom 7.6 2.4 6.2 14.2 4.1 11.8 answered diarrhea symptom 5.4 8.7 5.2 5.7 2.7 2.7 answered headache symptom 20.1 21.1 22.3 10.8 4.6 26.4 answered vomiting symptom 3.4 2.9 5.6 5.7 1.7 1.9 knowledge transmission droplets coughing sneezing 78.4 71.4 72.3 79.0 75.5 89.9 touching people virus 66.4 72.5 76.0 67.9 64.4 53.6 touching surfaces virus 45.1 22.5 56.1 55.1 54.3 53.1 touching eyes nose mouth unclean hands 32.9 12.2 33.2 47.6 36.7 45.6 body fluids infected person 6.2 1.2 2.5 11.9 7.3 10.9 feces infected person 1.4 0.2 0.6 3.9 3.3 1.5 knowledge prevention measures washing hands soap hand sanitizer 99.7 99.5 99.9 99.9 99.5 99.9 wearing face mask going 99.6 99.4 99.8 99.7 98.7 99.8 staying least metres away people 98.8 98.7 99.5 96.7 96.7 99.8 avoiding going house non essential reasons 96.7 98.4 96.9 87.5 95.7 99.4 self quarantining believe virus return trip96.0 98.5 95.4 86.9 92.4 99.1 avoiding social gatherings 96.0 98.2 97.0 83.0 94.3 99.6 avoiding public transportation 95.1 97.1 95.7 81.3 93.7 99.4 washing grocery products soap bleach detergent 89.2 88.3 94.5 75.4 79.5 95.9 leaving shoes outside main entrance house 91.9 91.0 95.4 86.1 74.4 97.9 implementation last weeks clean hands using hand sanitizer alcohol hand rub 39.3 67.1 13.0 16.1 30.4 43.1 wearing face mask outside 8.3 22.4 1.4 0.6 4.8 0.8 followed metres away people 7.3 17.1 0.9 1.7 12.5 0.7 leave shoes outside main entrance house 18.8 41.0 5.9 1.8 39.8 1.1 went house non essential reasons 75.3 66.0 81.9 57.8 69.9 90.1 joined social gatherings household members 25.1 31.2 13.2 38.7 40.3 16.5 public transport 13.8 13.5 5.7 28.7 30.1 8.3 resources available home soap detergent hand wash 99.8 99.7 99.9 99.7 99.6 99.8 hand sanitizer alcohol hand rub 52.8 31.8 83.1 64.0 51.4 47.2 face mask 95.8 96.4 91.6 95.4 92.8 99.2 gloves 29.6 20.2 25.7 22.5 47.8 40.1 tissue paper paper napkin 48.2 62.4 26.5 17.6 58.3 59.2 water supply home 63.2 22.4 87.5 69.7 90.3 77.1 self isolate room 40.6 13.1 54.6 36.7 51.6 57.9 sample supplementary covid related lockdown impacts socioeconomic health status south asia prior income quintile poor quintile 1.017 0.091 0.949 0.043 1.006 0.045 0.824 0.041 1.005 0.056 0.853 0.100 0.991 0.059 0.963 0.183 1.039 0.051 1.024 0.047 0.919 0.040 0.987 0.047 quintile 0.929 0.087 0.946 0.043 0.973 0.044 0.826 0.042 0.961 0.056 0.903 0.096 1.036 0.063 1.464 0.228 1.128 0.054 1.109 0.050 0.903 0.038 0.913 0.042 quintile 0.862 0.088 0.944 0.047 0.92 0.046 0.773 0.043 0.826 0.053 0.746 0.089 1.001 0.066 1.606 0.256 1.037 0.054 1.049 0.051 0.916 0.042 0.726 0.035 quintile rich 0.965 0.095 0.837 0.042 0.832 0.042 0.674 0.039 0.757 0.050 0.709 0.085 1.006 0.068 1.703 0.272 1.161 0.062 0.992 0.049 0.828 0.038 0.520 0.025 gender male female 0.957 0.058 0.975 0.030 1.158 0.036 1.080 0.038 2.882 0.121 0.954 0.074 0.203 0.009 0.049 0.007 0.912 0.030 0.760 0.023 1.100 0.031 0.989 0.029 age group 0.974 0.092 1.151 0.056 1.179 0.057 1.121 0.066 0.956 0.058 0.959 0.195 1.420 0.103 1.793 0.296 1.018 0.054 0.796 0.039 1.008 0.045 0.969 0.047 0.86 0.086 1.154 0.058 1.234 0.062 1.148 0.070 0.909 0.059 0.77 0.151 1.930 0.142 1.679 0.271 0.989 0.054 0.831 0.042 0.98 0.045 0.856 0.042 0.876 0.094 1.074 0.058 1.187 0.064 1.547 0.099 1.052 0.074 0.694 0.136 2.134 0.165 1.38 0.238 0.971 0.057 0.870 0.047 0.943 0.047 0.743 0.039 0.976 0.112 0.893 0.053 0.966 0.057 2.154 0.143 1.152 0.088 0.618 0.122 1.656 0.137 0.957 0.179 0.949 0.059 1.11 0.065 0.686 0.037 0.492 0.027 education years 1.137 0.106 0.924 0.042 0.965 0.043 0.782 0.038 0.851 0.046 1.179 0.140 0.679 0.039 0.812 0.185 1.324 0.069 0.886 0.043 0.969 0.042 0.887 0.044 1.211 0.120 0.992 0.048 1.019 0.049 0.592 0.032 0.858 0.052 0.87 0.113 0.517 0.033 0.983 0.216 1.138 0.065 0.825 0.043 0.913 0.042 0.752 0.039 1.423 0.140 0.884 0.042 0.881 0.043 0.463 0.026 0.703 0.045 0.809 0.101 0.392 0.026 0.768 0.164 1.256 0.070 0.782 0.040 0.800 0.037 0.550 0.027 1.430 0.184 0.885 0.060 0.810 0.055 0.365 0.030 0.593 0.054 0.677 0.112 0.216 0.021 0.682 0.166 1.254 0.088 0.794 0.052 0.580 0.037 0.315 0.020 prior chronic condition yes 1.515 0.097 1.167 0.036 1.117 0.035 0.948 0.034 0.954 0.039 1.537 0.211 0.922 0.039 1.021 0.094 0.913 0.031 1.074 0.034 0.997 0.029 1.008 0.031 constant 0.017 0.004 0.224 0.034 0.189 0.030 0.136 0.027 0.030 0.008 0.147 0.039 0.157 0.028 0.013 0.004 0.197 0.027 6.721 1.348 0.436 0.050 5.343 0.896 note odds ratio standard errors fruit vegetable sample ses socioeconomic status significant dependent variables binary . regressions multi level logistic regression modeling first level individual second level surveilance site group covid chronic disease employment loss worse financial situation least main covid symptom felt depressed felt nervous anxious weaker knowledge symptoms transmission poorer implementation preventive measures med access doc current tobacco current drink worse diet less physical activity group social financial circumstancesgroup covid burden knowledge preventative behaviors supplementary covid access medications total bangladesh north india south india pakistan sri lanka sample routine medications 23.9 19.3 14.6 24.5 17.8 36.9 routine meds meds 15.1 13.8 17.7 20.1 11.8 13.9 meds types medications anti diabetic 60.9 56.2 76.5 68.6 53.5 anti hypertensive 43.8 40.5 34.8 58.8 47.3 aspirin clopidogrel 8.6 2.5 10.7 9.8 9.5 statin 8.2 2.5 0.5 2.0 14.9 pain killers 6.7 9.1 3.7 11.8 6.8 inhaler 5.6 4.1 1.6 0.0 8.9 cough medications 1.6 3.3 0.0 2.0 1.9 meds reason running lockdown restricted going 50.9 8.5 55.4 71.7 17.0 67.1 unable afford 16.7 48.5 6.3 4.1 47.2 5.1 unable reasons 9.1 17.0 6.9 5.2 17.0 6.5 afraid going due fear covid infection 7.7 3.8 13.8 2.6 13.2 9.3 pharmacy stock 6.8 5.5 10.1 7.2 3.8 6.5 others 4.7 16.2 1.3 1.6 1.6 government medicine stock 4.1 0.4 6.3 7.7 1.9 3.9 sample note data available supplementary impact covid lockdown measures behavior relevant chronic disease gender total male female current drinking lockdown 11.0 25.9 1.5 lockdown last weeks 2.2 4.9 0.4 difference 80.5 80.9 76.0 current tobacco 24.4 44.5 11.5 14.5 25.3 7.4 difference 40.8 43.1 35.2 inadequate diet 70.0 66.9 72.0 77.2 75.4 78.4 difference 10.3 12.7 8.9 time sitting typical day hour 3.8 4.0 3.6 5.0 4.9 5.1 difference 33.4 23.6 40.3 sample note fruit vegetable . current drinking answered yes question drink alcohol current tobacco answered yes either questions currently smoke tobacco products daily cigarettes cigars pipes currently snuff chewing tobacco betel inadequate diet total serving fruit vegetable less servings per day . time sitting typical day much time person usually spends sitting reclining typical day . value ttest difference among total male female 0.001 supplementary benefit calculation smoking cessation baseline scenario incidence cvd incidence lung cancer non smokers 756b current smokers 244a 244b 2440b smokers total 3196b post pandemic incidence cvd incidence lung cancer non smokers 756b current smokers 145a 145b 1450b smokers 99b 188b total 2394b predicted risk reduction 13.3 25.1 assumptions smoking cessation maintained longterm incidence cvd non smokers incidence lung cancer non smokers smoking increases risk cvd approximately fold smoking increases risk lung cancer approximately fold risk cvd smokers normalises non smokers long term risk lung cancer remains elevated approximately fold smokers compared non smokers long term . refs supplementary covid social financial support total bangladesh north india south india pakistan sri lanka shopping groceries food lockdown 20.6 3.8 26.6 64.4 17.4 14.2 lockdown last weeks 26.9 7.2 26.7 49.8 16.7 40.0 difference 30.7 91.0 0.3 22.6 4.1 181.9 picking medications 10.2 2.7 5.0 38.2 9.4 9.1 8.7 1.7 3.9 23.3 7.4 13.2 difference 14.6 35.0 22.3 38.9 21.1 44.6 donated subsidised food 6.1 3.7 10.1 12.4 5.2 3.0 13.2 7.6 12.6 14.8 4.2 21.5 difference 115.7 103.3 25.0 19.3 19.5 611.9 monetary support 6.6 3.7 3.3 19.4 2.7 7.3 20.1 3.3 4.4 21.2 2.4 54.2 difference 203.1 12.2 33.2 9.4 11.6 638.2 relocation moved residence since march 3.2 3.1 4.0 5.9 3.5 1.7 moved distance miles 71.5 90.4 40.0 88.1 80.3 93.5 sample note values difference among total sample 0.001 supplementary forest plot responser bias highlights already known south asia become major epicentre covid pandemic . population faces multiple challenges including high rates communicable non communicable disease fragile health education systems food financial insecurity limited formal economic social support new findings results identified important knowledge access uptake barriers prevention covid south asia demonstrated major adverse impacts pandemic chronic disease treatment mental health health related behaviours employment household finances . found important sociodemographic differences impact suggesting widening existing inequalities . new findings imply findings underscore immediate large scale action close gaps knowledge access essential resources prevention along measures safeguard economic production mitigate socio economic impacts young poor . low uptake covid prevention behaviours high socioeconomic impact lockdown measures south asia evidence large scale multi country surveillance programme research approval obtained imperial college london research ethics committee reference 18ic4698 local institutional review boards participating countries .'"
            ]
          },
          "metadata": {
            "tags": []
          },
          "execution_count": 13
        }
      ]
    },
    {
      "cell_type": "code",
      "metadata": {
        "id": "heOpqnXsFFMG"
      },
      "source": [
        "import torch\n",
        "import json \n",
        "from transformers import T5Tokenizer, T5ForConditionalGeneration, T5Config"
      ],
      "execution_count": null,
      "outputs": []
    },
    {
      "cell_type": "markdown",
      "metadata": {
        "id": "RnjHZ713Sf7K"
      },
      "source": [
        "#T-5 Summarizer"
      ]
    },
    {
      "cell_type": "code",
      "metadata": {
        "id": "39b1E1iGHXKB",
        "colab": {
          "base_uri": "https://localhost:8080/",
          "height": 212,
          "referenced_widgets": [
            "d19c2c24b5af4f8b8f3810419272f98c",
            "5ee06c87035b41c6894de4619a0e5e2d",
            "f8b1dc186e444a81b90abc64962babac",
            "2ed78fc3604941348996a9a84417522e",
            "a47c28d6b2de445fa6680478237125cf",
            "1fb2b586a4dc448b8716bd3fd4c660ed",
            "3444ba7754ec4ecb91619476dda28ed2",
            "53f46c94b4f949b49f1f39c7332498d5",
            "4d62139db8914df68e77486bee8c9b81",
            "a1493a922de942eeb8d4693619e55b8e",
            "cf399ece4af945a6b24bd493f9ebf0d5",
            "73e3600a197145fd9e7500d261da12bd",
            "cfb8c10c0f074ce09bef3195a9ca21c5",
            "1ba9e1c2cc5549f9be4b6830dacb4fc1",
            "5c1b762f2e174ed99c428e593fe84d7b",
            "5fd9fe44ee3543f8b3c78c5125dfe638",
            "2170d859fc964608a8fdc0983aa07a54",
            "2af282985a604cb1bc76c36fc4229c5b",
            "72fcc63e966b46c69ebe258986680a85",
            "a5376996c9f74459a49819c4b99f9aaf",
            "68d015e2ae5c454d8e41680e176c64c7",
            "b8660e15dbad4503a1f3019eebf5e0bf",
            "8e57dd2785d8402882a8990ef038e086",
            "64885a35b5de42749ac299b81fc2e349",
            "6b1ea862f9e94a5c9ebfe94d7a8ef557",
            "1a683bfa7e644dea95af32468f67c269",
            "3ad3c904099f4b1cab6d737b552fade8",
            "2d7d7bb413b9436ea50b6f09896b5954",
            "09125d3b3de744b2a63f51de532dd2a6",
            "a052e8b84f8a41ae808b09cadfb6713b",
            "5e00bc094e0d4456aaf61c2def1ce3ee",
            "cbe7f84b5a8f4e0ba58d59abd0d9fb8d"
          ]
        },
        "outputId": "984a9d6f-3844-42ac-8c4e-e76e76946220"
      },
      "source": [
        "model = T5ForConditionalGeneration.from_pretrained('t5-small')\n",
        "tokenizer = T5Tokenizer.from_pretrained('t5-small')\n",
        "device = torch.device('cpu')"
      ],
      "execution_count": null,
      "outputs": [
        {
          "output_type": "display_data",
          "data": {
            "application/vnd.jupyter.widget-view+json": {
              "model_id": "d19c2c24b5af4f8b8f3810419272f98c",
              "version_minor": 0,
              "version_major": 2
            },
            "text/plain": [
              "HBox(children=(FloatProgress(value=0.0, description='Downloading', max=1197.0, style=ProgressStyle(description…"
            ]
          },
          "metadata": {
            "tags": []
          }
        },
        {
          "output_type": "stream",
          "text": [
            "\n"
          ],
          "name": "stdout"
        },
        {
          "output_type": "display_data",
          "data": {
            "application/vnd.jupyter.widget-view+json": {
              "model_id": "4d62139db8914df68e77486bee8c9b81",
              "version_minor": 0,
              "version_major": 2
            },
            "text/plain": [
              "HBox(children=(FloatProgress(value=0.0, description='Downloading', max=242065649.0, style=ProgressStyle(descri…"
            ]
          },
          "metadata": {
            "tags": []
          }
        },
        {
          "output_type": "stream",
          "text": [
            "\n"
          ],
          "name": "stdout"
        },
        {
          "output_type": "display_data",
          "data": {
            "application/vnd.jupyter.widget-view+json": {
              "model_id": "2170d859fc964608a8fdc0983aa07a54",
              "version_minor": 0,
              "version_major": 2
            },
            "text/plain": [
              "HBox(children=(FloatProgress(value=0.0, description='Downloading', max=791656.0, style=ProgressStyle(descripti…"
            ]
          },
          "metadata": {
            "tags": []
          }
        },
        {
          "output_type": "stream",
          "text": [
            "\n"
          ],
          "name": "stdout"
        },
        {
          "output_type": "display_data",
          "data": {
            "application/vnd.jupyter.widget-view+json": {
              "model_id": "6b1ea862f9e94a5c9ebfe94d7a8ef557",
              "version_minor": 0,
              "version_major": 2
            },
            "text/plain": [
              "HBox(children=(FloatProgress(value=0.0, description='Downloading', max=1389353.0, style=ProgressStyle(descript…"
            ]
          },
          "metadata": {
            "tags": []
          }
        },
        {
          "output_type": "stream",
          "text": [
            "\n"
          ],
          "name": "stdout"
        }
      ]
    },
    {
      "cell_type": "code",
      "metadata": {
        "colab": {
          "base_uri": "https://localhost:8080/"
        },
        "id": "jivOpT8A3Y5n",
        "outputId": "169e1ecb-75d4-4047-bd63-2185c90a940d"
      },
      "source": [
        "input_ids = tokenizer(\"summarize: \"+cleaned_text, return_tensors=\"pt\",max_length=2048, truncation=True).input_ids  # Batch size 1\n",
        "\n",
        "outputs = model.generate(input_ids,num_beams=4,\n",
        "                                    no_repeat_ngram_size=2,\n",
        "                                    min_length=200,\n",
        "                                    max_length=250,)\n",
        "\n",
        "decoded = tokenizer.decode(outputs[0], skip_special_tokens=True)\n",
        "\n",
        "print(decoded)"
      ],
      "execution_count": null,
      "outputs": [
        {
          "output_type": "stream",
          "text": [
            "Keyword arguments {'Batch': 5} not recognized.\n"
          ],
          "name": "stderr"
        },
        {
          "output_type": "stream",
          "text": [
            "icmje criteria please check apply page low uptake covid prevention behaviours high socioeconomic impact lockdown measures south asia evidence large scale multi country surveillance programme journal pre proof. dian kusuma rajendra pradeepa, khadija, mahmood syed mohsin ali shah chamini silva laksara, manoja gamage menka loomba vindya malay mridha franco 'home'  g nypd''. high d.p' co &... high-quality i'ds y ad: o.d; c ng r t b p essm vs co-sympathetic k.i hraasiyidd\n"
          ],
          "name": "stdout"
        }
      ]
    },
    {
      "cell_type": "markdown",
      "metadata": {
        "id": "gEeqyzdhSkh4"
      },
      "source": [
        "#GPT 2 Summarizer\n"
      ]
    },
    {
      "cell_type": "code",
      "metadata": {
        "colab": {
          "base_uri": "https://localhost:8080/",
          "height": 348,
          "referenced_widgets": [
            "85da0f3bf7504e4ea14eab187ccc2738",
            "b7a8ac9e03c74b4ca00f343b4e50095c",
            "83fbe95d98444af0941a358d767400c6",
            "23981a38fbde4233ace17789f772ee6b",
            "d524ab285e8a451bb5ed76e0671f3bf7",
            "b57200f15c4548cbb32162b5d2a0c183",
            "1836dd95e8f948299226cf8e9b0d7f07",
            "3657b306c7984b8e8f713c77f59c862e",
            "1f904ca23be14e5aa8e50696c0737728",
            "da6d64863bfa46e298922a899abe98c0",
            "d29fec03c2654796b3dd96923e7d3cc5",
            "724591cb046945ffb9df7d3b2f876015",
            "ba300abe6562402e90272616f216a872",
            "806614f71c9f475696304903b281c6b6",
            "12b85b516ad64321b3808ca569bb23e5",
            "36ea5dc95d3c4cbe9fb4833bc519dfe4",
            "d9cc1e08c09247f7b629a882b1a7fb1f",
            "7c548f294bda4d6c8a6af2cfc4bdb086",
            "7acc4823892b457f96d4f6fa05638c83",
            "2408525c80614bfdb6900a1ca8c2ea77",
            "cb37c0c90b8a4bc5b591f9299fe8b830",
            "cf1e62efc3604fe0ad4733d9ea56bbed",
            "eee8d781d6584a2290db3c02a8a6baf4",
            "475ea1c6094b4df9880aad198a2bc51d",
            "d6a76e8ed5fc4f26b8a9ab20c1b59601",
            "31dcd5b9c04c459386a77009fad20bbc",
            "1bcf989f35e54c4980c15a76e6d2674a",
            "9d7b7d4957884cb78081feccc1267c2c",
            "4fa7e450ca8647ada4110a93421a85f5",
            "7384f79a39324feaa8a668f1be321a88",
            "dad565eea58846339c678425672931f9",
            "68cdb8d963da43ec85f09b1bad627ec3",
            "c0efb053aff6495485f70e69a4e6bf26",
            "ec0d076a13d446d9bc56c0cbb4bcb9dc",
            "00295090ecfe437dac581f09776118b7",
            "79c964fe57d548d9837a2a1f10d9b360",
            "69a767b771be4001a3b3f6947fdabae0",
            "b2f26e6402ea4f26afdfb4c3b06fa07a",
            "102a5b9b4e0449d296a5c578ba411d6c",
            "f66cbdbab761454f827390355e301838"
          ]
        },
        "id": "OcDUB6Gc4j27",
        "outputId": "4a088557-68fc-4041-9dfc-2029284e2ad3"
      },
      "source": [
        "from transformers import GPT2Tokenizer,GPT2LMHeadModel\n",
        "tokenizer=GPT2Tokenizer.from_pretrained('gpt2')\n",
        "model=GPT2LMHeadModel.from_pretrained('gpt2')\n",
        "inputs=tokenizer.batch_encode_plus([cleaned_text],return_tensors='pt',max_length=512)\n",
        "summary_ids=model.generate(inputs['input_ids'],early_stopping=True)\n",
        "GPT_summary=tokenizer.decode(summary_ids[0],skip_special_tokens=True)\n",
        "print(GPT_summary)"
      ],
      "execution_count": null,
      "outputs": [
        {
          "output_type": "display_data",
          "data": {
            "application/vnd.jupyter.widget-view+json": {
              "model_id": "85da0f3bf7504e4ea14eab187ccc2738",
              "version_minor": 0,
              "version_major": 2
            },
            "text/plain": [
              "HBox(children=(FloatProgress(value=0.0, description='Downloading', max=1042301.0, style=ProgressStyle(descript…"
            ]
          },
          "metadata": {
            "tags": []
          }
        },
        {
          "output_type": "stream",
          "text": [
            "\n"
          ],
          "name": "stdout"
        },
        {
          "output_type": "display_data",
          "data": {
            "application/vnd.jupyter.widget-view+json": {
              "model_id": "1f904ca23be14e5aa8e50696c0737728",
              "version_minor": 0,
              "version_major": 2
            },
            "text/plain": [
              "HBox(children=(FloatProgress(value=0.0, description='Downloading', max=456318.0, style=ProgressStyle(descripti…"
            ]
          },
          "metadata": {
            "tags": []
          }
        },
        {
          "output_type": "stream",
          "text": [
            "\n"
          ],
          "name": "stdout"
        },
        {
          "output_type": "display_data",
          "data": {
            "application/vnd.jupyter.widget-view+json": {
              "model_id": "d9cc1e08c09247f7b629a882b1a7fb1f",
              "version_minor": 0,
              "version_major": 2
            },
            "text/plain": [
              "HBox(children=(FloatProgress(value=0.0, description='Downloading', max=1355256.0, style=ProgressStyle(descript…"
            ]
          },
          "metadata": {
            "tags": []
          }
        },
        {
          "output_type": "stream",
          "text": [
            "\n"
          ],
          "name": "stdout"
        },
        {
          "output_type": "display_data",
          "data": {
            "application/vnd.jupyter.widget-view+json": {
              "model_id": "d6a76e8ed5fc4f26b8a9ab20c1b59601",
              "version_minor": 0,
              "version_major": 2
            },
            "text/plain": [
              "HBox(children=(FloatProgress(value=0.0, description='Downloading', max=665.0, style=ProgressStyle(description_…"
            ]
          },
          "metadata": {
            "tags": []
          }
        },
        {
          "output_type": "stream",
          "text": [
            "\n"
          ],
          "name": "stdout"
        },
        {
          "output_type": "display_data",
          "data": {
            "application/vnd.jupyter.widget-view+json": {
              "model_id": "c0efb053aff6495485f70e69a4e6bf26",
              "version_minor": 0,
              "version_major": 2
            },
            "text/plain": [
              "HBox(children=(FloatProgress(value=0.0, description='Downloading', max=548118077.0, style=ProgressStyle(descri…"
            ]
          },
          "metadata": {
            "tags": []
          }
        },
        {
          "output_type": "stream",
          "text": [
            "\n"
          ],
          "name": "stdout"
        },
        {
          "output_type": "stream",
          "text": [
            "Truncation was not explicitly activated but `max_length` is provided a specific value, please use `truncation=True` to explicitly truncate examples to max length. Defaulting to 'longest_first' truncation strategy. If you encode pairs of sequences (GLUE-style) with the tokenizer you can select this strategy more precisely by providing a specific strategy to `truncation`.\n",
            "Setting `pad_token_id` to `eos_token_id`:50256 for open-end generation.\n",
            "Input length of input_ids is 512, but ``max_length`` is set to 20.This can lead to unexpected behavior. You should consider increasing ``config.max_length`` or ``max_length``.\n"
          ],
          "name": "stderr"
        },
        {
          "output_type": "stream",
          "text": [
            "low uptake covid prevention behaviours high socioeconomic impact lockdown measures south asia evidence large scale multi country surveillance programme journal pre proof low uptake covid prevention behaviours high socioeconomic impact lockdown measures south asia evidence large scale multi country surveillance programme dian kusuma rajendra pradeepa khadija khawaja mehedi hasan samreen siddiqui sara mahmood syed mohsin ali shah chamini silva laksara silva manoja gamage menka loomba vindya rajakaruna abu hanif rajan babu kamalesh balachandran kumarendran marie loh archa misra asma tassawar akansha tyagi swati waghdhare saira burney sajjad ahmad viswanathan mohan malabika sarker ian goon anuradhani kasturiratne jaspal kooner prasad katulanda sujeet jha ranjit mohan anjana malay mridha franco sassi john chambers behalf nihr global health research unit diabetes cardiovascular disease south asia pii s2352 reference ssmph appear ssm population health received date november revised date january accepted date february please cite article kusuma pradeepa khawaja k.i hasan siddiqui mahmood ali shah s.m. silva c.k silva gamage loomba rajakaruna v.p hanif kamalesh r.b. kumarendran loh misra tassawar tyagi waghdhare burney ahmad mohan sarker goon i.y kasturiratne kooner j.s katulanda jha anjana r.m. mridha m.k sassi chambers j.c behalf nihr global health research unit diabetes cardiovascular disease south asia low uptake covid prevention behaviours high socioeconomic impact lockdown measures south asia evidence large scale multi country surveillance programme ssm population health j.ssmph.2021.100751. pdf file article undergone enhancements acceptance addition cover page metadata formatting readability yet definitive version record. version undergo additional copyediting typesetting review published final form providing version give early visibility article. please note production process errors discovered affect content legal disclaimers apply journal pertain. published elsevier ltd.\n"
          ],
          "name": "stdout"
        }
      ]
    },
    {
      "cell_type": "code",
      "metadata": {
        "colab": {
          "base_uri": "https://localhost:8080/",
          "height": 204
        },
        "id": "TLzv7URzBQmP",
        "outputId": "d2c83374-b051-4d75-d00e-47981d15625a"
      },
      "source": [
        "GPT_summary"
      ],
      "execution_count": null,
      "outputs": [
        {
          "output_type": "execute_result",
          "data": {
            "application/vnd.google.colaboratory.intrinsic+json": {
              "type": "string"
            },
            "text/plain": [
              "'low uptake covid prevention behaviours high socioeconomic impact lockdown measures south asia evidence large scale multi country surveillance programme journal pre proof low uptake covid prevention behaviours high socioeconomic impact lockdown measures south asia evidence large scale multi country surveillance programme dian kusuma rajendra pradeepa khadija khawaja mehedi hasan samreen siddiqui sara mahmood syed mohsin ali shah chamini silva laksara silva manoja gamage menka loomba vindya rajakaruna abu hanif rajan babu kamalesh balachandran kumarendran marie loh archa misra asma tassawar akansha tyagi swati waghdhare saira burney sajjad ahmad viswanathan mohan malabika sarker ian goon anuradhani kasturiratne jaspal kooner prasad katulanda sujeet jha ranjit mohan anjana malay mridha franco sassi john chambers behalf nihr global health research unit diabetes cardiovascular disease south asia pii s2352 reference ssmph appear ssm population health received date november revised date january accepted date february please cite article kusuma pradeepa khawaja k.i hasan siddiqui mahmood ali shah s.m. silva c.k silva gamage loomba rajakaruna v.p hanif kamalesh r.b. kumarendran loh misra tassawar tyagi waghdhare burney ahmad mohan sarker goon i.y kasturiratne kooner j.s katulanda jha anjana r.m. mridha m.k sassi chambers j.c behalf nihr global health research unit diabetes cardiovascular disease south asia low uptake covid prevention behaviours high socioeconomic impact lockdown measures south asia evidence large scale multi country surveillance programme ssm population health j.ssmph.2021.100751. pdf file article undergone enhancements acceptance addition cover page metadata formatting readability yet definitive version record. version undergo additional copyediting typesetting review published final form providing version give early visibility article. please note production process errors discovered affect content legal disclaimers apply journal pertain. published elsevier ltd.'"
            ]
          },
          "metadata": {
            "tags": []
          },
          "execution_count": 31
        }
      ]
    }
  ]
}